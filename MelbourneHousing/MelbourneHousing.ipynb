{
 "cells": [
  {
   "cell_type": "markdown",
   "metadata": {},
   "source": [
    "## Import Modules"
   ]
  },
  {
   "cell_type": "code",
   "execution_count": 1,
   "metadata": {},
   "outputs": [],
   "source": [
    "import pandas as pd\n",
    "import numpy as np\n",
    "import seaborn as sns\n",
    "import copy as cp\n",
    "import matplotlib.pyplot as plt\n",
    "import warnings\n",
    "%matplotlib inline\n",
    "warnings.filterwarnings('ignore')"
   ]
  },
  {
   "cell_type": "markdown",
   "metadata": {},
   "source": [
    "## Loading the dataset"
   ]
  },
  {
   "cell_type": "code",
   "execution_count": 2,
   "metadata": {},
   "outputs": [
    {
     "data": {
      "text/html": [
       "<div>\n",
       "<style scoped>\n",
       "    .dataframe tbody tr th:only-of-type {\n",
       "        vertical-align: middle;\n",
       "    }\n",
       "\n",
       "    .dataframe tbody tr th {\n",
       "        vertical-align: top;\n",
       "    }\n",
       "\n",
       "    .dataframe thead th {\n",
       "        text-align: right;\n",
       "    }\n",
       "</style>\n",
       "<table border=\"1\" class=\"dataframe\">\n",
       "  <thead>\n",
       "    <tr style=\"text-align: right;\">\n",
       "      <th></th>\n",
       "      <th>Suburb</th>\n",
       "      <th>Address</th>\n",
       "      <th>Rooms</th>\n",
       "      <th>Type</th>\n",
       "      <th>Price</th>\n",
       "      <th>Method</th>\n",
       "      <th>SellerG</th>\n",
       "      <th>Date</th>\n",
       "      <th>Distance</th>\n",
       "      <th>Postcode</th>\n",
       "      <th>...</th>\n",
       "      <th>Bathroom</th>\n",
       "      <th>Car</th>\n",
       "      <th>Landsize</th>\n",
       "      <th>BuildingArea</th>\n",
       "      <th>YearBuilt</th>\n",
       "      <th>CouncilArea</th>\n",
       "      <th>Lattitude</th>\n",
       "      <th>Longtitude</th>\n",
       "      <th>Regionname</th>\n",
       "      <th>Propertycount</th>\n",
       "    </tr>\n",
       "  </thead>\n",
       "  <tbody>\n",
       "    <tr>\n",
       "      <th>0</th>\n",
       "      <td>Abbotsford</td>\n",
       "      <td>85 Turner St</td>\n",
       "      <td>2</td>\n",
       "      <td>h</td>\n",
       "      <td>1480000.0</td>\n",
       "      <td>S</td>\n",
       "      <td>Biggin</td>\n",
       "      <td>3/12/2016</td>\n",
       "      <td>2.5</td>\n",
       "      <td>3067.0</td>\n",
       "      <td>...</td>\n",
       "      <td>1.0</td>\n",
       "      <td>1.0</td>\n",
       "      <td>202.0</td>\n",
       "      <td>NaN</td>\n",
       "      <td>NaN</td>\n",
       "      <td>Yarra</td>\n",
       "      <td>-37.7996</td>\n",
       "      <td>144.9984</td>\n",
       "      <td>Northern Metropolitan</td>\n",
       "      <td>4019.0</td>\n",
       "    </tr>\n",
       "    <tr>\n",
       "      <th>1</th>\n",
       "      <td>Abbotsford</td>\n",
       "      <td>25 Bloomburg St</td>\n",
       "      <td>2</td>\n",
       "      <td>h</td>\n",
       "      <td>1035000.0</td>\n",
       "      <td>S</td>\n",
       "      <td>Biggin</td>\n",
       "      <td>4/02/2016</td>\n",
       "      <td>2.5</td>\n",
       "      <td>3067.0</td>\n",
       "      <td>...</td>\n",
       "      <td>1.0</td>\n",
       "      <td>0.0</td>\n",
       "      <td>156.0</td>\n",
       "      <td>79.0</td>\n",
       "      <td>1900.0</td>\n",
       "      <td>Yarra</td>\n",
       "      <td>-37.8079</td>\n",
       "      <td>144.9934</td>\n",
       "      <td>Northern Metropolitan</td>\n",
       "      <td>4019.0</td>\n",
       "    </tr>\n",
       "    <tr>\n",
       "      <th>2</th>\n",
       "      <td>Abbotsford</td>\n",
       "      <td>5 Charles St</td>\n",
       "      <td>3</td>\n",
       "      <td>h</td>\n",
       "      <td>1465000.0</td>\n",
       "      <td>SP</td>\n",
       "      <td>Biggin</td>\n",
       "      <td>4/03/2017</td>\n",
       "      <td>2.5</td>\n",
       "      <td>3067.0</td>\n",
       "      <td>...</td>\n",
       "      <td>2.0</td>\n",
       "      <td>0.0</td>\n",
       "      <td>134.0</td>\n",
       "      <td>150.0</td>\n",
       "      <td>1900.0</td>\n",
       "      <td>Yarra</td>\n",
       "      <td>-37.8093</td>\n",
       "      <td>144.9944</td>\n",
       "      <td>Northern Metropolitan</td>\n",
       "      <td>4019.0</td>\n",
       "    </tr>\n",
       "    <tr>\n",
       "      <th>3</th>\n",
       "      <td>Abbotsford</td>\n",
       "      <td>40 Federation La</td>\n",
       "      <td>3</td>\n",
       "      <td>h</td>\n",
       "      <td>850000.0</td>\n",
       "      <td>PI</td>\n",
       "      <td>Biggin</td>\n",
       "      <td>4/03/2017</td>\n",
       "      <td>2.5</td>\n",
       "      <td>3067.0</td>\n",
       "      <td>...</td>\n",
       "      <td>2.0</td>\n",
       "      <td>1.0</td>\n",
       "      <td>94.0</td>\n",
       "      <td>NaN</td>\n",
       "      <td>NaN</td>\n",
       "      <td>Yarra</td>\n",
       "      <td>-37.7969</td>\n",
       "      <td>144.9969</td>\n",
       "      <td>Northern Metropolitan</td>\n",
       "      <td>4019.0</td>\n",
       "    </tr>\n",
       "    <tr>\n",
       "      <th>4</th>\n",
       "      <td>Abbotsford</td>\n",
       "      <td>55a Park St</td>\n",
       "      <td>4</td>\n",
       "      <td>h</td>\n",
       "      <td>1600000.0</td>\n",
       "      <td>VB</td>\n",
       "      <td>Nelson</td>\n",
       "      <td>4/06/2016</td>\n",
       "      <td>2.5</td>\n",
       "      <td>3067.0</td>\n",
       "      <td>...</td>\n",
       "      <td>1.0</td>\n",
       "      <td>2.0</td>\n",
       "      <td>120.0</td>\n",
       "      <td>142.0</td>\n",
       "      <td>2014.0</td>\n",
       "      <td>Yarra</td>\n",
       "      <td>-37.8072</td>\n",
       "      <td>144.9941</td>\n",
       "      <td>Northern Metropolitan</td>\n",
       "      <td>4019.0</td>\n",
       "    </tr>\n",
       "  </tbody>\n",
       "</table>\n",
       "<p>5 rows × 21 columns</p>\n",
       "</div>"
      ],
      "text/plain": [
       "       Suburb           Address  Rooms Type      Price Method SellerG  \\\n",
       "0  Abbotsford      85 Turner St      2    h  1480000.0      S  Biggin   \n",
       "1  Abbotsford   25 Bloomburg St      2    h  1035000.0      S  Biggin   \n",
       "2  Abbotsford      5 Charles St      3    h  1465000.0     SP  Biggin   \n",
       "3  Abbotsford  40 Federation La      3    h   850000.0     PI  Biggin   \n",
       "4  Abbotsford       55a Park St      4    h  1600000.0     VB  Nelson   \n",
       "\n",
       "        Date  Distance  Postcode  ...  Bathroom  Car  Landsize  BuildingArea  \\\n",
       "0  3/12/2016       2.5    3067.0  ...       1.0  1.0     202.0           NaN   \n",
       "1  4/02/2016       2.5    3067.0  ...       1.0  0.0     156.0          79.0   \n",
       "2  4/03/2017       2.5    3067.0  ...       2.0  0.0     134.0         150.0   \n",
       "3  4/03/2017       2.5    3067.0  ...       2.0  1.0      94.0           NaN   \n",
       "4  4/06/2016       2.5    3067.0  ...       1.0  2.0     120.0         142.0   \n",
       "\n",
       "   YearBuilt  CouncilArea Lattitude  Longtitude             Regionname  \\\n",
       "0        NaN        Yarra  -37.7996    144.9984  Northern Metropolitan   \n",
       "1     1900.0        Yarra  -37.8079    144.9934  Northern Metropolitan   \n",
       "2     1900.0        Yarra  -37.8093    144.9944  Northern Metropolitan   \n",
       "3        NaN        Yarra  -37.7969    144.9969  Northern Metropolitan   \n",
       "4     2014.0        Yarra  -37.8072    144.9941  Northern Metropolitan   \n",
       "\n",
       "  Propertycount  \n",
       "0        4019.0  \n",
       "1        4019.0  \n",
       "2        4019.0  \n",
       "3        4019.0  \n",
       "4        4019.0  \n",
       "\n",
       "[5 rows x 21 columns]"
      ]
     },
     "execution_count": 2,
     "metadata": {},
     "output_type": "execute_result"
    }
   ],
   "source": [
    "df = pd.read_csv('melb_data.csv')\n",
    "df.head()"
   ]
  },
  {
   "cell_type": "code",
   "execution_count": 3,
   "metadata": {},
   "outputs": [
    {
     "name": "stdout",
     "output_type": "stream",
     "text": [
      "<class 'pandas.core.frame.DataFrame'>\n",
      "RangeIndex: 13580 entries, 0 to 13579\n",
      "Data columns (total 21 columns):\n",
      " #   Column         Non-Null Count  Dtype  \n",
      "---  ------         --------------  -----  \n",
      " 0   Suburb         13580 non-null  object \n",
      " 1   Address        13580 non-null  object \n",
      " 2   Rooms          13580 non-null  int64  \n",
      " 3   Type           13580 non-null  object \n",
      " 4   Price          13580 non-null  float64\n",
      " 5   Method         13580 non-null  object \n",
      " 6   SellerG        13580 non-null  object \n",
      " 7   Date           13580 non-null  object \n",
      " 8   Distance       13580 non-null  float64\n",
      " 9   Postcode       13580 non-null  float64\n",
      " 10  Bedroom2       13580 non-null  float64\n",
      " 11  Bathroom       13580 non-null  float64\n",
      " 12  Car            13518 non-null  float64\n",
      " 13  Landsize       13580 non-null  float64\n",
      " 14  BuildingArea   7130 non-null   float64\n",
      " 15  YearBuilt      8205 non-null   float64\n",
      " 16  CouncilArea    12211 non-null  object \n",
      " 17  Lattitude      13580 non-null  float64\n",
      " 18  Longtitude     13580 non-null  float64\n",
      " 19  Regionname     13580 non-null  object \n",
      " 20  Propertycount  13580 non-null  float64\n",
      "dtypes: float64(12), int64(1), object(8)\n",
      "memory usage: 2.2+ MB\n"
     ]
    }
   ],
   "source": [
    "df.info()"
   ]
  },
  {
   "cell_type": "code",
   "execution_count": 4,
   "metadata": {},
   "outputs": [
    {
     "data": {
      "text/html": [
       "<div>\n",
       "<style scoped>\n",
       "    .dataframe tbody tr th:only-of-type {\n",
       "        vertical-align: middle;\n",
       "    }\n",
       "\n",
       "    .dataframe tbody tr th {\n",
       "        vertical-align: top;\n",
       "    }\n",
       "\n",
       "    .dataframe thead th {\n",
       "        text-align: right;\n",
       "    }\n",
       "</style>\n",
       "<table border=\"1\" class=\"dataframe\">\n",
       "  <thead>\n",
       "    <tr style=\"text-align: right;\">\n",
       "      <th></th>\n",
       "      <th>Rooms</th>\n",
       "      <th>Price</th>\n",
       "      <th>Distance</th>\n",
       "      <th>Postcode</th>\n",
       "      <th>Bedroom2</th>\n",
       "      <th>Bathroom</th>\n",
       "      <th>Car</th>\n",
       "      <th>Landsize</th>\n",
       "      <th>BuildingArea</th>\n",
       "      <th>YearBuilt</th>\n",
       "      <th>Lattitude</th>\n",
       "      <th>Longtitude</th>\n",
       "      <th>Propertycount</th>\n",
       "    </tr>\n",
       "  </thead>\n",
       "  <tbody>\n",
       "    <tr>\n",
       "      <th>count</th>\n",
       "      <td>13580.000000</td>\n",
       "      <td>1.358000e+04</td>\n",
       "      <td>13580.000000</td>\n",
       "      <td>13580.000000</td>\n",
       "      <td>13580.000000</td>\n",
       "      <td>13580.000000</td>\n",
       "      <td>13518.000000</td>\n",
       "      <td>13580.000000</td>\n",
       "      <td>7130.000000</td>\n",
       "      <td>8205.000000</td>\n",
       "      <td>13580.000000</td>\n",
       "      <td>13580.000000</td>\n",
       "      <td>13580.000000</td>\n",
       "    </tr>\n",
       "    <tr>\n",
       "      <th>mean</th>\n",
       "      <td>2.937997</td>\n",
       "      <td>1.075684e+06</td>\n",
       "      <td>10.137776</td>\n",
       "      <td>3105.301915</td>\n",
       "      <td>2.914728</td>\n",
       "      <td>1.534242</td>\n",
       "      <td>1.610075</td>\n",
       "      <td>558.416127</td>\n",
       "      <td>151.967650</td>\n",
       "      <td>1964.684217</td>\n",
       "      <td>-37.809203</td>\n",
       "      <td>144.995216</td>\n",
       "      <td>7454.417378</td>\n",
       "    </tr>\n",
       "    <tr>\n",
       "      <th>std</th>\n",
       "      <td>0.955748</td>\n",
       "      <td>6.393107e+05</td>\n",
       "      <td>5.868725</td>\n",
       "      <td>90.676964</td>\n",
       "      <td>0.965921</td>\n",
       "      <td>0.691712</td>\n",
       "      <td>0.962634</td>\n",
       "      <td>3990.669241</td>\n",
       "      <td>541.014538</td>\n",
       "      <td>37.273762</td>\n",
       "      <td>0.079260</td>\n",
       "      <td>0.103916</td>\n",
       "      <td>4378.581772</td>\n",
       "    </tr>\n",
       "    <tr>\n",
       "      <th>min</th>\n",
       "      <td>1.000000</td>\n",
       "      <td>8.500000e+04</td>\n",
       "      <td>0.000000</td>\n",
       "      <td>3000.000000</td>\n",
       "      <td>0.000000</td>\n",
       "      <td>0.000000</td>\n",
       "      <td>0.000000</td>\n",
       "      <td>0.000000</td>\n",
       "      <td>0.000000</td>\n",
       "      <td>1196.000000</td>\n",
       "      <td>-38.182550</td>\n",
       "      <td>144.431810</td>\n",
       "      <td>249.000000</td>\n",
       "    </tr>\n",
       "    <tr>\n",
       "      <th>25%</th>\n",
       "      <td>2.000000</td>\n",
       "      <td>6.500000e+05</td>\n",
       "      <td>6.100000</td>\n",
       "      <td>3044.000000</td>\n",
       "      <td>2.000000</td>\n",
       "      <td>1.000000</td>\n",
       "      <td>1.000000</td>\n",
       "      <td>177.000000</td>\n",
       "      <td>93.000000</td>\n",
       "      <td>1940.000000</td>\n",
       "      <td>-37.856822</td>\n",
       "      <td>144.929600</td>\n",
       "      <td>4380.000000</td>\n",
       "    </tr>\n",
       "    <tr>\n",
       "      <th>50%</th>\n",
       "      <td>3.000000</td>\n",
       "      <td>9.030000e+05</td>\n",
       "      <td>9.200000</td>\n",
       "      <td>3084.000000</td>\n",
       "      <td>3.000000</td>\n",
       "      <td>1.000000</td>\n",
       "      <td>2.000000</td>\n",
       "      <td>440.000000</td>\n",
       "      <td>126.000000</td>\n",
       "      <td>1970.000000</td>\n",
       "      <td>-37.802355</td>\n",
       "      <td>145.000100</td>\n",
       "      <td>6555.000000</td>\n",
       "    </tr>\n",
       "    <tr>\n",
       "      <th>75%</th>\n",
       "      <td>3.000000</td>\n",
       "      <td>1.330000e+06</td>\n",
       "      <td>13.000000</td>\n",
       "      <td>3148.000000</td>\n",
       "      <td>3.000000</td>\n",
       "      <td>2.000000</td>\n",
       "      <td>2.000000</td>\n",
       "      <td>651.000000</td>\n",
       "      <td>174.000000</td>\n",
       "      <td>1999.000000</td>\n",
       "      <td>-37.756400</td>\n",
       "      <td>145.058305</td>\n",
       "      <td>10331.000000</td>\n",
       "    </tr>\n",
       "    <tr>\n",
       "      <th>max</th>\n",
       "      <td>10.000000</td>\n",
       "      <td>9.000000e+06</td>\n",
       "      <td>48.100000</td>\n",
       "      <td>3977.000000</td>\n",
       "      <td>20.000000</td>\n",
       "      <td>8.000000</td>\n",
       "      <td>10.000000</td>\n",
       "      <td>433014.000000</td>\n",
       "      <td>44515.000000</td>\n",
       "      <td>2018.000000</td>\n",
       "      <td>-37.408530</td>\n",
       "      <td>145.526350</td>\n",
       "      <td>21650.000000</td>\n",
       "    </tr>\n",
       "  </tbody>\n",
       "</table>\n",
       "</div>"
      ],
      "text/plain": [
       "              Rooms         Price      Distance      Postcode      Bedroom2  \\\n",
       "count  13580.000000  1.358000e+04  13580.000000  13580.000000  13580.000000   \n",
       "mean       2.937997  1.075684e+06     10.137776   3105.301915      2.914728   \n",
       "std        0.955748  6.393107e+05      5.868725     90.676964      0.965921   \n",
       "min        1.000000  8.500000e+04      0.000000   3000.000000      0.000000   \n",
       "25%        2.000000  6.500000e+05      6.100000   3044.000000      2.000000   \n",
       "50%        3.000000  9.030000e+05      9.200000   3084.000000      3.000000   \n",
       "75%        3.000000  1.330000e+06     13.000000   3148.000000      3.000000   \n",
       "max       10.000000  9.000000e+06     48.100000   3977.000000     20.000000   \n",
       "\n",
       "           Bathroom           Car       Landsize  BuildingArea    YearBuilt  \\\n",
       "count  13580.000000  13518.000000   13580.000000   7130.000000  8205.000000   \n",
       "mean       1.534242      1.610075     558.416127    151.967650  1964.684217   \n",
       "std        0.691712      0.962634    3990.669241    541.014538    37.273762   \n",
       "min        0.000000      0.000000       0.000000      0.000000  1196.000000   \n",
       "25%        1.000000      1.000000     177.000000     93.000000  1940.000000   \n",
       "50%        1.000000      2.000000     440.000000    126.000000  1970.000000   \n",
       "75%        2.000000      2.000000     651.000000    174.000000  1999.000000   \n",
       "max        8.000000     10.000000  433014.000000  44515.000000  2018.000000   \n",
       "\n",
       "          Lattitude    Longtitude  Propertycount  \n",
       "count  13580.000000  13580.000000   13580.000000  \n",
       "mean     -37.809203    144.995216    7454.417378  \n",
       "std        0.079260      0.103916    4378.581772  \n",
       "min      -38.182550    144.431810     249.000000  \n",
       "25%      -37.856822    144.929600    4380.000000  \n",
       "50%      -37.802355    145.000100    6555.000000  \n",
       "75%      -37.756400    145.058305   10331.000000  \n",
       "max      -37.408530    145.526350   21650.000000  "
      ]
     },
     "execution_count": 4,
     "metadata": {},
     "output_type": "execute_result"
    }
   ],
   "source": [
    "df.describe()"
   ]
  },
  {
   "cell_type": "code",
   "execution_count": 5,
   "metadata": {},
   "outputs": [
    {
     "data": {
      "text/plain": [
       "Suburb              0\n",
       "Address             0\n",
       "Rooms               0\n",
       "Type                0\n",
       "Price               0\n",
       "Method              0\n",
       "SellerG             0\n",
       "Date                0\n",
       "Distance            0\n",
       "Postcode            0\n",
       "Bedroom2            0\n",
       "Bathroom            0\n",
       "Car                62\n",
       "Landsize            0\n",
       "BuildingArea     6450\n",
       "YearBuilt        5375\n",
       "CouncilArea      1369\n",
       "Lattitude           0\n",
       "Longtitude          0\n",
       "Regionname          0\n",
       "Propertycount       0\n",
       "dtype: int64"
      ]
     },
     "execution_count": 5,
     "metadata": {},
     "output_type": "execute_result"
    }
   ],
   "source": [
    "df.isnull().sum()"
   ]
  },
  {
   "cell_type": "code",
   "execution_count": 6,
   "metadata": {},
   "outputs": [],
   "source": [
    "cat_cols = []\n",
    "for col in (df.dtypes.index):\n",
    "    if df[col].dtype == 'object':\n",
    "        cat_cols.append(col)"
   ]
  },
  {
   "cell_type": "code",
   "execution_count": 7,
   "metadata": {},
   "outputs": [
    {
     "name": "stdout",
     "output_type": "stream",
     "text": [
      "Suburb\n",
      "Reservoir         359\n",
      "Richmond          260\n",
      "Bentleigh East    249\n",
      "Preston           239\n",
      "Brunswick         222\n",
      "                 ... \n",
      "Officer             1\n",
      "Bacchus Marsh       1\n",
      "Plumpton            1\n",
      "Croydon South       1\n",
      "Attwood             1\n",
      "Name: Suburb, Length: 314, dtype: int64\n",
      "\n",
      "Address\n",
      "5 Margaret St         3\n",
      "1/1 Clarendon St      3\n",
      "14 Arthur St          3\n",
      "13 Robinson St        3\n",
      "53 William St         3\n",
      "                     ..\n",
      "45 Browns Rd          1\n",
      "127 Tucker Rd         1\n",
      "3 Victoria St         1\n",
      "19 Luntar Rd          1\n",
      "14/52 Leicester St    1\n",
      "Name: Address, Length: 13378, dtype: int64\n",
      "\n",
      "Type\n",
      "h    9449\n",
      "u    3017\n",
      "t    1114\n",
      "Name: Type, dtype: int64\n",
      "\n",
      "Method\n",
      "S     9022\n",
      "SP    1703\n",
      "PI    1564\n",
      "VB    1199\n",
      "SA      92\n",
      "Name: Method, dtype: int64\n",
      "\n",
      "SellerG\n",
      "Nelson           1565\n",
      "Jellis           1316\n",
      "hockingstuart    1167\n",
      "Barry            1011\n",
      "Ray               701\n",
      "                 ... \n",
      "Weast               1\n",
      "Boutique            1\n",
      "Coventry            1\n",
      "Upper               1\n",
      "Metro               1\n",
      "Name: SellerG, Length: 268, dtype: int64\n",
      "\n",
      "Date\n",
      "27/05/2017    473\n",
      "3/06/2017     395\n",
      "12/08/2017    387\n",
      "17/06/2017    374\n",
      "27/11/2016    362\n",
      "29/07/2017    341\n",
      "4/03/2017     337\n",
      "25/02/2017    333\n",
      "24/06/2017    329\n",
      "10/12/2016    319\n",
      "22/07/2017    317\n",
      "8/07/2017     310\n",
      "18/03/2017    303\n",
      "15/10/2016    300\n",
      "15/07/2017    292\n",
      "12/11/2016    292\n",
      "3/12/2016     288\n",
      "8/04/2017     280\n",
      "1/07/2017     276\n",
      "19/11/2016    266\n",
      "20/05/2017    262\n",
      "18/06/2016    261\n",
      "28/05/2016    258\n",
      "13/05/2017    255\n",
      "16/09/2017    254\n",
      "8/10/2016     251\n",
      "23/09/2017    247\n",
      "26/08/2017    246\n",
      "7/05/2016     245\n",
      "17/09/2016    242\n",
      "24/09/2016    240\n",
      "28/08/2016    238\n",
      "10/09/2016    235\n",
      "16/04/2016    217\n",
      "29/04/2017    217\n",
      "4/06/2016     214\n",
      "3/09/2017     214\n",
      "27/06/2016    211\n",
      "3/09/2016     208\n",
      "9/09/2017     205\n",
      "22/05/2016    203\n",
      "19/08/2017    201\n",
      "7/11/2016     194\n",
      "14/05/2016    193\n",
      "22/08/2016    192\n",
      "30/07/2016    172\n",
      "6/08/2016     154\n",
      "16/07/2016    141\n",
      "6/05/2017     140\n",
      "22/04/2017    134\n",
      "26/07/2016    133\n",
      "13/08/2016    132\n",
      "23/04/2016    101\n",
      "11/02/2017     84\n",
      "12/06/2016     46\n",
      "11/03/2017     38\n",
      "4/02/2016      26\n",
      "28/01/2016      2\n",
      "Name: Date, dtype: int64\n",
      "\n",
      "CouncilArea\n",
      "Moreland             1163\n",
      "Boroondara           1160\n",
      "Moonee Valley         997\n",
      "Darebin               934\n",
      "Glen Eira             848\n",
      "Stonnington           719\n",
      "Maribyrnong           692\n",
      "Yarra                 647\n",
      "Port Phillip          628\n",
      "Banyule               594\n",
      "Bayside               489\n",
      "Melbourne             470\n",
      "Hobsons Bay           434\n",
      "Brimbank              424\n",
      "Monash                333\n",
      "Manningham            311\n",
      "Whitehorse            304\n",
      "Kingston              207\n",
      "Whittlesea            167\n",
      "Hume                  164\n",
      "Wyndham                86\n",
      "Maroondah              80\n",
      "Knox                   80\n",
      "Melton                 66\n",
      "Frankston              53\n",
      "Greater Dandenong      52\n",
      "Casey                  38\n",
      "Nillumbik              36\n",
      "Yarra Ranges           18\n",
      "Cardinia                8\n",
      "Macedon Ranges          7\n",
      "Moorabool               1\n",
      "Unavailable             1\n",
      "Name: CouncilArea, dtype: int64\n",
      "\n",
      "Regionname\n",
      "Southern Metropolitan         4695\n",
      "Northern Metropolitan         3890\n",
      "Western Metropolitan          2948\n",
      "Eastern Metropolitan          1471\n",
      "South-Eastern Metropolitan     450\n",
      "Eastern Victoria                53\n",
      "Northern Victoria               41\n",
      "Western Victoria                32\n",
      "Name: Regionname, dtype: int64\n",
      "\n"
     ]
    }
   ],
   "source": [
    "for x in cat_cols:\n",
    "    print(x)\n",
    "    print(df[x].value_counts())\n",
    "    print()"
   ]
  },
  {
   "cell_type": "code",
   "execution_count": 8,
   "metadata": {},
   "outputs": [
    {
     "data": {
      "text/plain": [
       "(13580, 21)"
      ]
     },
     "execution_count": 8,
     "metadata": {},
     "output_type": "execute_result"
    }
   ],
   "source": [
    "df.shape"
   ]
  },
  {
   "cell_type": "code",
   "execution_count": null,
   "metadata": {},
   "outputs": [],
   "source": []
  },
  {
   "cell_type": "markdown",
   "metadata": {},
   "source": [
    "## Preprocessing the dataset"
   ]
  },
  {
   "cell_type": "markdown",
   "metadata": {},
   "source": [
    "#### Fill missing values"
   ]
  },
  {
   "cell_type": "code",
   "execution_count": 9,
   "metadata": {},
   "outputs": [
    {
     "data": {
      "text/plain": [
       "Suburb              0\n",
       "Address             0\n",
       "Rooms               0\n",
       "Type                0\n",
       "Price               0\n",
       "Method              0\n",
       "SellerG             0\n",
       "Date                0\n",
       "Distance            0\n",
       "Postcode            0\n",
       "Bedroom2            0\n",
       "Bathroom            0\n",
       "Car                62\n",
       "Landsize            0\n",
       "BuildingArea     6450\n",
       "YearBuilt        5375\n",
       "CouncilArea      1369\n",
       "Lattitude           0\n",
       "Longtitude          0\n",
       "Regionname          0\n",
       "Propertycount       0\n",
       "dtype: int64"
      ]
     },
     "execution_count": 9,
     "metadata": {},
     "output_type": "execute_result"
    }
   ],
   "source": [
    "df.isnull().sum()"
   ]
  },
  {
   "cell_type": "code",
   "execution_count": 10,
   "metadata": {},
   "outputs": [
    {
     "data": {
      "text/plain": [
       "Suburb              0\n",
       "Address             0\n",
       "Rooms               0\n",
       "Type                0\n",
       "Price               0\n",
       "Method              0\n",
       "SellerG             0\n",
       "Date                0\n",
       "Distance            0\n",
       "Postcode            0\n",
       "Bedroom2            0\n",
       "Bathroom            0\n",
       "Car                62\n",
       "Landsize            0\n",
       "BuildingArea        0\n",
       "YearBuilt        5375\n",
       "CouncilArea      1369\n",
       "Lattitude           0\n",
       "Longtitude          0\n",
       "Regionname          0\n",
       "Propertycount       0\n",
       "dtype: int64"
      ]
     },
     "execution_count": 10,
     "metadata": {},
     "output_type": "execute_result"
    }
   ],
   "source": [
    "#Replacing building area with mean of the particular building type\n",
    "null_arr = df['BuildingArea'].isnull()\n",
    "for i, v in enumerate(df['Type']):\n",
    "    if null_arr[i]:\n",
    "        df['BuildingArea'][i] = np.mean(df['BuildingArea'][df['Type']==v])\n",
    "df.isnull().sum()"
   ]
  },
  {
   "cell_type": "code",
   "execution_count": 11,
   "metadata": {},
   "outputs": [
    {
     "data": {
      "text/html": [
       "<div>\n",
       "<style scoped>\n",
       "    .dataframe tbody tr th:only-of-type {\n",
       "        vertical-align: middle;\n",
       "    }\n",
       "\n",
       "    .dataframe tbody tr th {\n",
       "        vertical-align: top;\n",
       "    }\n",
       "\n",
       "    .dataframe thead th {\n",
       "        text-align: right;\n",
       "    }\n",
       "</style>\n",
       "<table border=\"1\" class=\"dataframe\">\n",
       "  <thead>\n",
       "    <tr style=\"text-align: right;\">\n",
       "      <th>Type</th>\n",
       "      <th>h</th>\n",
       "      <th>t</th>\n",
       "      <th>u</th>\n",
       "    </tr>\n",
       "  </thead>\n",
       "  <tbody>\n",
       "    <tr>\n",
       "      <th>Car</th>\n",
       "      <td>2.0</td>\n",
       "      <td>2.0</td>\n",
       "      <td>1.0</td>\n",
       "    </tr>\n",
       "  </tbody>\n",
       "</table>\n",
       "</div>"
      ],
      "text/plain": [
       "Type    h    t    u\n",
       "Car   2.0  2.0  1.0"
      ]
     },
     "execution_count": 11,
     "metadata": {},
     "output_type": "execute_result"
    }
   ],
   "source": [
    "car_slots_mode = df.pivot_table(values='Car', columns='Type', aggfunc=(lambda x: x.mode()[0]))\n",
    "car_slots_mode"
   ]
  },
  {
   "cell_type": "code",
   "execution_count": 12,
   "metadata": {},
   "outputs": [],
   "source": [
    "miss_bool = df['Car'].isnull()\n",
    "df.loc[miss_bool, 'Car'] = df.loc[miss_bool, 'Type'].apply(lambda x: car_slots_mode[x])"
   ]
  },
  {
   "cell_type": "code",
   "execution_count": 13,
   "metadata": {},
   "outputs": [
    {
     "data": {
      "text/plain": [
       "{'Abbotsford': 'Yarra',\n",
       " 'Airport West': 'Moonee Valley',\n",
       " 'Albert Park': 'Port Phillip',\n",
       " 'Alphington': 'Darebin',\n",
       " 'Altona': 'Hobsons Bay',\n",
       " 'Altona North': 'Hobsons Bay',\n",
       " 'Armadale': 'Stonnington',\n",
       " 'Ascot Vale': 'Moonee Valley',\n",
       " 'Ashburton': 'Boroondara',\n",
       " 'Ashwood': 'Monash',\n",
       " 'Avondale Heights': 'Moonee Valley',\n",
       " 'Balaclava': 'Port Phillip',\n",
       " 'Balwyn': 'Boroondara',\n",
       " 'Balwyn North': 'Boroondara',\n",
       " 'Bentleigh': 'Glen Eira',\n",
       " 'Bentleigh East': 'Glen Eira',\n",
       " 'Box Hill': 'Whitehorse',\n",
       " 'Braybrook': 'Maribyrnong',\n",
       " 'Brighton': 'Bayside',\n",
       " 'Brighton East': 'Bayside',\n",
       " 'Brunswick': 'Moreland',\n",
       " 'Brunswick West': 'Moreland',\n",
       " 'Bulleen': 'Manningham',\n",
       " 'Burwood': 'Whitehorse',\n",
       " 'Camberwell': 'Boroondara',\n",
       " 'Canterbury': 'Boroondara',\n",
       " 'Carlton North': 'Yarra',\n",
       " 'Carnegie': 'Glen Eira',\n",
       " 'Caulfield': 'Glen Eira',\n",
       " 'Caulfield North': 'Glen Eira',\n",
       " 'Caulfield South': 'Glen Eira',\n",
       " 'Chadstone': 'Monash',\n",
       " 'Clifton Hill': 'Yarra',\n",
       " 'Coburg': 'Moreland',\n",
       " 'Coburg North': 'Moreland',\n",
       " 'Collingwood': 'Yarra',\n",
       " 'Doncaster': 'Manningham',\n",
       " 'Eaglemont': 'Banyule',\n",
       " 'Elsternwick': 'Glen Eira',\n",
       " 'Elwood': 'Port Phillip',\n",
       " 'Essendon': 'Moonee Valley',\n",
       " 'Essendon North': 'Moonee Valley',\n",
       " 'Fairfield': 'Darebin',\n",
       " 'Fitzroy': 'Yarra',\n",
       " 'Fitzroy North': 'Yarra',\n",
       " 'Flemington': 'Moonee Valley',\n",
       " 'Footscray': 'Maribyrnong',\n",
       " 'Glen Iris': 'Boroondara',\n",
       " 'Glenroy': 'Moreland',\n",
       " 'Gowanbrae': 'Moreland',\n",
       " 'Hadfield': 'Moreland',\n",
       " 'Hampton': 'Bayside',\n",
       " 'Hampton East': 'Bayside',\n",
       " 'Hawthorn': 'Boroondara',\n",
       " 'Heidelberg Heights': 'Banyule',\n",
       " 'Heidelberg West': 'Banyule',\n",
       " 'Hughesdale': 'Monash',\n",
       " 'Ivanhoe': 'Banyule',\n",
       " 'Kealba': 'Brimbank',\n",
       " 'Keilor East': 'Moonee Valley',\n",
       " 'Kensington': 'Melbourne',\n",
       " 'Kew': 'Boroondara',\n",
       " 'Kew East': 'Boroondara',\n",
       " 'Kooyong': 'Stonnington',\n",
       " 'Maidstone': 'Maribyrnong',\n",
       " 'Malvern': 'Stonnington',\n",
       " 'Malvern East': 'Stonnington',\n",
       " 'Maribyrnong': 'Maribyrnong',\n",
       " 'Melbourne': 'Melbourne',\n",
       " 'Middle Park': 'Port Phillip',\n",
       " 'Mont Albert': 'Whitehorse',\n",
       " 'Moonee Ponds': 'Moonee Valley',\n",
       " 'Moorabbin': 'Kingston',\n",
       " 'Newport': 'Hobsons Bay',\n",
       " 'Niddrie': 'Moonee Valley',\n",
       " 'North Melbourne': 'Melbourne',\n",
       " 'Northcote': 'Darebin',\n",
       " 'Oak Park': 'Moreland',\n",
       " 'Oakleigh South': 'Monash',\n",
       " 'Parkville': 'Melbourne',\n",
       " 'Pascoe Vale': 'Moreland',\n",
       " 'Port Melbourne': 'Port Phillip',\n",
       " 'Prahran': 'Stonnington',\n",
       " 'Preston': 'Darebin',\n",
       " 'Reservoir': 'Darebin',\n",
       " 'Richmond': 'Yarra',\n",
       " 'Rosanna': 'Banyule',\n",
       " 'Seddon': 'Maribyrnong',\n",
       " 'South Melbourne': 'Port Phillip',\n",
       " 'South Yarra': 'Stonnington',\n",
       " 'Southbank': 'Melbourne',\n",
       " 'Spotswood': 'Hobsons Bay',\n",
       " 'St Kilda': 'Port Phillip',\n",
       " 'Strathmore': 'Moonee Valley',\n",
       " 'Sunshine': 'Brimbank',\n",
       " 'Sunshine North': 'Brimbank',\n",
       " 'Sunshine West': 'Brimbank',\n",
       " 'Surrey Hills': 'Boroondara',\n",
       " 'Templestowe Lower': 'Manningham',\n",
       " 'Thornbury': 'Darebin',\n",
       " 'Toorak': 'Stonnington',\n",
       " 'Viewbank': 'Banyule',\n",
       " 'Watsonia': 'Banyule',\n",
       " 'West Melbourne': 'Melbourne',\n",
       " 'Williamstown': 'Hobsons Bay',\n",
       " 'Williamstown North': 'Hobsons Bay',\n",
       " 'Windsor': 'Stonnington',\n",
       " 'Yallambie': 'Banyule',\n",
       " 'Yarraville': 'Maribyrnong',\n",
       " 'Aberfeldie': 'Moonee Valley',\n",
       " 'Bellfield': 'Banyule',\n",
       " 'Brunswick East': 'Moreland',\n",
       " 'Burnley': 'Yarra',\n",
       " 'Campbellfield': 'Hume',\n",
       " 'Carlton': 'Melbourne',\n",
       " 'East Melbourne': 'Melbourne',\n",
       " 'Essendon West': 'Moonee Valley',\n",
       " 'Fawkner': 'Moreland',\n",
       " 'Hawthorn East': 'Boroondara',\n",
       " 'Heidelberg': 'Banyule',\n",
       " 'Ivanhoe East': 'Banyule',\n",
       " 'Jacana': 'Hume',\n",
       " 'Kingsbury': 'Darebin',\n",
       " 'Kingsville': 'Maribyrnong',\n",
       " 'Murrumbeena': 'Glen Eira',\n",
       " 'Ormond': 'Glen Eira',\n",
       " 'West Footscray': 'Maribyrnong',\n",
       " 'Albion': 'Brimbank',\n",
       " 'Brooklyn': 'Hobsons Bay',\n",
       " 'Glen Huntly': 'Glen Eira',\n",
       " 'Oakleigh': 'Monash',\n",
       " 'Ripponlea': 'Port Phillip',\n",
       " 'Cremorne': 'Yarra',\n",
       " 'Docklands': 'Melbourne',\n",
       " 'South Kingsville': 'Hobsons Bay',\n",
       " 'Strathmore Heights': 'Moonee Valley',\n",
       " 'Travancore': 'Moonee Valley',\n",
       " 'Caulfield East': 'Glen Eira',\n",
       " 'Seaholme': 'Hobsons Bay',\n",
       " 'Keilor Park': 'Brimbank',\n",
       " 'Gardenvale': 'Glen Eira',\n",
       " 'Princes Hill': 'Yarra',\n",
       " 'Bayswater': 'Knox',\n",
       " 'Bayswater North': 'Maroondah',\n",
       " 'Beaumaris': 'Bayside',\n",
       " 'Berwick': 'Casey',\n",
       " 'Boronia': 'Knox',\n",
       " 'Briar Hill': 'Banyule',\n",
       " 'Broadmeadows': 'Hume',\n",
       " 'Bundoora': 'Banyule',\n",
       " 'Burnside Heights': 'Melton',\n",
       " 'Burwood East': 'Whitehorse',\n",
       " 'Cairnlea': 'Brimbank',\n",
       " 'Caroline Springs': 'Melton',\n",
       " 'Cheltenham': 'Kingston',\n",
       " 'Craigieburn': 'Hume',\n",
       " 'Cranbourne': 'Casey',\n",
       " 'Croydon': 'Maroondah',\n",
       " 'Dandenong': 'Greater Dandenong',\n",
       " 'Dandenong North': 'Greater Dandenong',\n",
       " 'Diamond Creek': 'Nillumbik',\n",
       " 'Dingley Village': 'Kingston',\n",
       " 'Doncaster East': 'Manningham',\n",
       " 'Donvale': 'Manningham',\n",
       " 'Doreen': 'Whittlesea',\n",
       " 'Eltham': 'Nillumbik',\n",
       " 'Epping': 'Whittlesea',\n",
       " 'Forest Hill': 'Whitehorse',\n",
       " 'Frankston': 'Frankston',\n",
       " 'Frankston North': 'Frankston',\n",
       " 'Frankston South': 'Frankston',\n",
       " 'Gisborne': 'Macedon Ranges',\n",
       " 'Gladstone Park': 'Hume',\n",
       " 'Greensborough': 'Banyule',\n",
       " 'Hallam': 'Casey',\n",
       " 'Healesville': 'Yarra Ranges',\n",
       " 'Highett': 'Bayside',\n",
       " 'Hillside': 'Melton',\n",
       " 'Huntingdale': 'Monash',\n",
       " 'Keilor Downs': 'Brimbank',\n",
       " 'Keilor Lodge': 'Brimbank',\n",
       " 'Keysborough': 'Greater Dandenong',\n",
       " 'Kings Park': 'Brimbank',\n",
       " 'Lalor': 'Whittlesea',\n",
       " 'Lower Plenty': 'Banyule',\n",
       " 'Melton': 'Melton',\n",
       " 'Mernda': 'Whittlesea',\n",
       " 'Mill Park': 'Whittlesea',\n",
       " 'Mitcham': 'Whitehorse',\n",
       " 'Montmorency': 'Banyule',\n",
       " 'Mordialloc': 'Kingston',\n",
       " 'Mount Waverley': 'Monash',\n",
       " 'Narre Warren': 'Casey',\n",
       " 'Nunawading': 'Whitehorse',\n",
       " 'Oakleigh East': 'Monash',\n",
       " 'Parkdale': 'Kingston',\n",
       " 'Point Cook': 'Wyndham',\n",
       " 'Ringwood East': 'Maroondah',\n",
       " 'Rockbank': 'Melton',\n",
       " 'Rowville': 'Knox',\n",
       " 'Sandringham': 'Bayside',\n",
       " 'Seaford': 'Frankston',\n",
       " 'Skye': 'Frankston',\n",
       " 'South Morang': 'Whittlesea',\n",
       " 'Springvale': 'Greater Dandenong',\n",
       " 'St Albans': 'Brimbank',\n",
       " 'Sunbury': 'Hume',\n",
       " 'Tarneit': 'Wyndham',\n",
       " 'Taylors Hill': 'Melton',\n",
       " 'Taylors Lakes': 'Brimbank',\n",
       " 'The Basin': 'Knox',\n",
       " 'Thomastown': 'Whittlesea',\n",
       " 'Truganina': 'Wyndham',\n",
       " 'Tullamarine': 'Hume',\n",
       " 'Vermont': 'Whitehorse',\n",
       " 'Wantirna': 'Knox',\n",
       " 'Wantirna South': 'Knox',\n",
       " 'Werribee': 'Wyndham',\n",
       " 'Westmeadows': 'Hume',\n",
       " 'Williams Landing': 'Wyndham',\n",
       " 'Wollert': 'Whittlesea',\n",
       " 'Wyndham Vale': 'Wyndham',\n",
       " 'Black Rock': 'Bayside',\n",
       " 'Blackburn': 'Whitehorse',\n",
       " 'Blackburn North': 'Whitehorse',\n",
       " 'Bonbeach': 'Kingston',\n",
       " 'Carrum': 'Kingston',\n",
       " 'Chelsea': 'Kingston',\n",
       " 'Clayton': 'Monash',\n",
       " 'Doveton': 'Casey',\n",
       " 'Ferntree Gully': 'Knox',\n",
       " 'Glen Waverley': 'Monash',\n",
       " 'Greenvale': 'Hume',\n",
       " 'Heathmont': 'Maroondah',\n",
       " 'Hoppers Crossing': 'Wyndham',\n",
       " 'McKinnon': 'Glen Eira',\n",
       " 'Melton South': 'Melton',\n",
       " 'Melton West': 'Melton',\n",
       " 'Mentone': 'Kingston',\n",
       " 'Mooroolbark': 'Yarra Ranges',\n",
       " 'Mulgrave': 'Monash',\n",
       " 'Ringwood': 'Maroondah',\n",
       " 'Roxburgh Park': 'Hume',\n",
       " 'Seabrook': 'Hobsons Bay',\n",
       " 'Templestowe': 'Manningham',\n",
       " 'Vermont South': 'Whitehorse',\n",
       " 'Warrandyte': 'Manningham',\n",
       " 'Watsonia North': 'Banyule',\n",
       " 'Wheelers Hill': 'Monash',\n",
       " 'Altona Meadows': 'Hobsons Bay',\n",
       " 'Blackburn South': 'Whitehorse',\n",
       " 'Carrum Downs': 'Frankston',\n",
       " 'Clayton South': 'Kingston',\n",
       " 'Croydon North': 'Maroondah',\n",
       " 'Langwarrin': 'Frankston',\n",
       " 'Noble Park': 'Greater Dandenong',\n",
       " 'Notting Hill': 'Monash',\n",
       " 'Ringwood North': 'Maroondah',\n",
       " 'Sydenham': 'Brimbank',\n",
       " 'Albanvale': 'Brimbank',\n",
       " 'Beaconsfield Upper': 'Cardinia',\n",
       " 'Chelsea Heights': 'Kingston',\n",
       " 'Dallas': 'Hume',\n",
       " 'Deer Park': 'Brimbank',\n",
       " 'Eltham North': 'Nillumbik',\n",
       " 'Keilor': 'Brimbank',\n",
       " 'Meadow Heights': 'Hume',\n",
       " 'Mount Evelyn': 'Yarra Ranges',\n",
       " 'North Warrandyte': 'Nillumbik',\n",
       " 'Pakenham': 'Cardinia',\n",
       " 'Riddells Creek': 'Macedon Ranges',\n",
       " 'Sandhurst': 'Frankston',\n",
       " 'Scoresby': 'Knox',\n",
       " 'Silvan': 'Yarra Ranges',\n",
       " 'Aspendale': 'Kingston',\n",
       " 'Chirnside Park': 'Yarra Ranges',\n",
       " 'Croydon Hills': 'Maroondah',\n",
       " 'Croydon South': 'Maroondah',\n",
       " 'Derrimut': 'Brimbank',\n",
       " 'Diggers Rest': 'Melton',\n",
       " 'Edithvale': 'Kingston',\n",
       " 'Hampton Park': 'Casey',\n",
       " 'Knoxfield': 'Knox',\n",
       " 'St Helena': 'Banyule',\n",
       " 'Upwey': 'Yarra Ranges',\n",
       " 'Bacchus Marsh': 'Moorabool',\n",
       " 'Coolaroo': 'Hume',\n",
       " 'Cranbourne North': 'Casey',\n",
       " 'Kilsyth': 'Maroondah',\n",
       " 'Montrose': 'Yarra Ranges',\n",
       " 'Aspendale Gardens': 'Kingston',\n",
       " 'Bullengarook': 'Macedon Ranges',\n",
       " 'Clarinda': 'Kingston',\n",
       " 'Deepdene': 'Boroondara',\n",
       " 'Delahey': 'Brimbank',\n",
       " 'Hurstbridge': 'Nillumbik',\n",
       " 'Kurunjang': 'Melton',\n",
       " 'Wonga Park': 'Manningham',\n",
       " 'Endeavour Hills': 'Casey',\n",
       " 'Officer': 'Cardinia',\n",
       " 'Waterways': 'Kingston',\n",
       " 'Ardeer': 'Brimbank',\n",
       " 'Beaconsfield': 'Cardinia',\n",
       " 'Springvale South': 'Greater Dandenong',\n",
       " 'Yarra Glen': 'Yarra Ranges',\n",
       " 'Brookfield': 'Melton',\n",
       " 'Emerald': 'Cardinia',\n",
       " 'Whittlesea': 'Whittlesea',\n",
       " 'Burnside': 'Moreland',\n",
       " 'Attwood': 'Moreland',\n",
       " 'Wallan': 'Moreland',\n",
       " 'New Gisborne': 'Moreland',\n",
       " 'Plumpton': 'Moreland',\n",
       " 'Monbulk': 'Moreland'}"
      ]
     },
     "execution_count": 13,
     "metadata": {},
     "output_type": "execute_result"
    }
   ],
   "source": [
    "council_area_mode = {}\n",
    "for v in df['Suburb'].unique():\n",
    "    mode = df['CouncilArea'][df['Suburb']==v].mode()\n",
    "    if len(mode)==0:\n",
    "         council_area_mode[v] = df['CouncilArea'].mode()[0]\n",
    "    else:\n",
    "        council_area_mode[v] = df['CouncilArea'][df['Suburb']==v].mode()[0]\n",
    "council_area_mode"
   ]
  },
  {
   "cell_type": "code",
   "execution_count": 14,
   "metadata": {},
   "outputs": [
    {
     "data": {
      "text/plain": [
       "Suburb              0\n",
       "Address             0\n",
       "Rooms               0\n",
       "Type                0\n",
       "Price               0\n",
       "Method              0\n",
       "SellerG             0\n",
       "Date                0\n",
       "Distance            0\n",
       "Postcode            0\n",
       "Bedroom2            0\n",
       "Bathroom            0\n",
       "Car                 0\n",
       "Landsize            0\n",
       "BuildingArea        0\n",
       "YearBuilt        5375\n",
       "CouncilArea         0\n",
       "Lattitude           0\n",
       "Longtitude          0\n",
       "Regionname          0\n",
       "Propertycount       0\n",
       "dtype: int64"
      ]
     },
     "execution_count": 14,
     "metadata": {},
     "output_type": "execute_result"
    }
   ],
   "source": [
    "miss_bool = df['CouncilArea'].isnull()\n",
    "for i,v in enumerate(df['Suburb']):\n",
    "    if miss_bool[i]:\n",
    "        df['CouncilArea'][i] = council_area_mode[v]\n",
    "df.isnull().sum()"
   ]
  },
  {
   "cell_type": "code",
   "execution_count": 15,
   "metadata": {},
   "outputs": [
    {
     "data": {
      "text/plain": [
       "{'Abbotsford': 1900.0,\n",
       " 'Airport West': 1950.0,\n",
       " 'Albert Park': 1890.0,\n",
       " 'Alphington': 1930.0,\n",
       " 'Altona': 1950.0,\n",
       " 'Altona North': 1960.0,\n",
       " 'Armadale': 1900.0,\n",
       " 'Ascot Vale': 1900.0,\n",
       " 'Ashburton': 1950.0,\n",
       " 'Ashwood': 1950.0,\n",
       " 'Avondale Heights': 1960.0,\n",
       " 'Balaclava': 1960.0,\n",
       " 'Balwyn': 1960.0,\n",
       " 'Balwyn North': 1960.0,\n",
       " 'Bentleigh': 1950.0,\n",
       " 'Bentleigh East': 1950.0,\n",
       " 'Box Hill': 1950.0,\n",
       " 'Braybrook': 1950.0,\n",
       " 'Brighton': 1970.0,\n",
       " 'Brighton East': 1950.0,\n",
       " 'Brunswick': 1890.0,\n",
       " 'Brunswick West': 1970.0,\n",
       " 'Bulleen': 1970.0,\n",
       " 'Burwood': 1950.0,\n",
       " 'Camberwell': 1960.0,\n",
       " 'Canterbury': 1910.0,\n",
       " 'Carlton North': 1970.0,\n",
       " 'Carnegie': 1970.0,\n",
       " 'Caulfield': 1960.0,\n",
       " 'Caulfield North': 1960.0,\n",
       " 'Caulfield South': 1970.0,\n",
       " 'Chadstone': 2000.0,\n",
       " 'Clifton Hill': 1890.0,\n",
       " 'Coburg': 1920.0,\n",
       " 'Coburg North': 1950.0,\n",
       " 'Collingwood': 1900.0,\n",
       " 'Doncaster': 1970.0,\n",
       " 'Eaglemont': 1960.0,\n",
       " 'Elsternwick': 1970.0,\n",
       " 'Elwood': 1970.0,\n",
       " 'Essendon': 1970.0,\n",
       " 'Essendon North': 1970.0,\n",
       " 'Fairfield': 1970.0,\n",
       " 'Fitzroy': 1890.0,\n",
       " 'Fitzroy North': 1890.0,\n",
       " 'Flemington': 1970.0,\n",
       " 'Footscray': 1900.0,\n",
       " 'Glen Iris': 1930.0,\n",
       " 'Glenroy': 1960.0,\n",
       " 'Gowanbrae': 2005.0,\n",
       " 'Hadfield': 1960.0,\n",
       " 'Hampton': 1970.0,\n",
       " 'Hampton East': 1950.0,\n",
       " 'Hawthorn': 1890.0,\n",
       " 'Heidelberg Heights': 1950.0,\n",
       " 'Heidelberg West': 1960.0,\n",
       " 'Hughesdale': 1970.0,\n",
       " 'Ivanhoe': 1960.0,\n",
       " 'Kealba': 1980.0,\n",
       " 'Keilor East': 1970.0,\n",
       " 'Kensington': 1900.0,\n",
       " 'Kew': 1970.0,\n",
       " 'Kew East': 1930.0,\n",
       " 'Kooyong': 1930.0,\n",
       " 'Maidstone': 1950.0,\n",
       " 'Malvern': 1970.0,\n",
       " 'Malvern East': 1930.0,\n",
       " 'Maribyrnong': 2000.0,\n",
       " 'Melbourne': 2005.0,\n",
       " 'Middle Park': 1900.0,\n",
       " 'Mont Albert': 1950.0,\n",
       " 'Moonee Ponds': 1910.0,\n",
       " 'Moorabbin': 1960.0,\n",
       " 'Newport': 1900.0,\n",
       " 'Niddrie': 1950.0,\n",
       " 'North Melbourne': 1970.0,\n",
       " 'Northcote': 1920.0,\n",
       " 'Oak Park': 1960.0,\n",
       " 'Oakleigh South': 1950.0,\n",
       " 'Parkville': 1890.0,\n",
       " 'Pascoe Vale': 1950.0,\n",
       " 'Port Melbourne': 1900.0,\n",
       " 'Prahran': 1900.0,\n",
       " 'Preston': 1950.0,\n",
       " 'Reservoir': 1960.0,\n",
       " 'Richmond': 1900.0,\n",
       " 'Rosanna': 1950.0,\n",
       " 'Seddon': 1910.0,\n",
       " 'South Melbourne': 1900.0,\n",
       " 'South Yarra': 1970.0,\n",
       " 'Southbank': 1995.0,\n",
       " 'Spotswood': 1950.0,\n",
       " 'St Kilda': 1970.0,\n",
       " 'Strathmore': 1950.0,\n",
       " 'Sunshine': 1950.0,\n",
       " 'Sunshine North': 1960.0,\n",
       " 'Sunshine West': 1970.0,\n",
       " 'Surrey Hills': 1970.0,\n",
       " 'Templestowe Lower': 1970.0,\n",
       " 'Thornbury': 1970.0,\n",
       " 'Toorak': 1970.0,\n",
       " 'Viewbank': 1960.0,\n",
       " 'Watsonia': 1960.0,\n",
       " 'West Melbourne': 1880.0,\n",
       " 'Williamstown': 1980.0,\n",
       " 'Williamstown North': 1970.0,\n",
       " 'Windsor': 1970.0,\n",
       " 'Yallambie': 1970.0,\n",
       " 'Yarraville': 1910.0,\n",
       " 'Aberfeldie': 1950.0,\n",
       " 'Bellfield': 1950.0,\n",
       " 'Brunswick East': 1890.0,\n",
       " 'Burnley': 1900.0,\n",
       " 'Campbellfield': 1970.0,\n",
       " 'Carlton': 1890.0,\n",
       " 'East Melbourne': 1970.0,\n",
       " 'Essendon West': 1950.0,\n",
       " 'Fawkner': 1960.0,\n",
       " 'Hawthorn East': 1970.0,\n",
       " 'Heidelberg': 1950.0,\n",
       " 'Ivanhoe East': 1930.0,\n",
       " 'Jacana': 1960.0,\n",
       " 'Kingsbury': 1970.0,\n",
       " 'Kingsville': 1915.0,\n",
       " 'Murrumbeena': 1970.0,\n",
       " 'Ormond': 1970.0,\n",
       " 'West Footscray': 1950.0,\n",
       " 'Albion': 1970.0,\n",
       " 'Brooklyn': 1950.0,\n",
       " 'Glen Huntly': 1970.0,\n",
       " 'Oakleigh': 1950.0,\n",
       " 'Ripponlea': 1970.0,\n",
       " 'Cremorne': 2007.0,\n",
       " 'Docklands': 1970.0,\n",
       " 'South Kingsville': 1970.0,\n",
       " 'Strathmore Heights': 1960.0,\n",
       " 'Travancore': 2012.0,\n",
       " 'Caulfield East': 1960.0,\n",
       " 'Seaholme': 2005.0,\n",
       " 'Keilor Park': 1970.0,\n",
       " 'Gardenvale': 1960.0,\n",
       " 'Princes Hill': 1890.0,\n",
       " 'Bayswater': 1970.0,\n",
       " 'Bayswater North': 1970.0,\n",
       " 'Beaumaris': 1925.0,\n",
       " 'Berwick': 1970.0,\n",
       " 'Boronia': 1970.0,\n",
       " 'Briar Hill': 1960.0,\n",
       " 'Broadmeadows': 1960.0,\n",
       " 'Bundoora': 1970.0,\n",
       " 'Burnside Heights': 2007.0,\n",
       " 'Burwood East': 1960.0,\n",
       " 'Cairnlea': 2000.0,\n",
       " 'Caroline Springs': 2004.0,\n",
       " 'Cheltenham': 1960.0,\n",
       " 'Craigieburn': 2010.0,\n",
       " 'Cranbourne': 2006.0,\n",
       " 'Croydon': 1960.0,\n",
       " 'Dandenong': 1960.0,\n",
       " 'Dandenong North': 1970.0,\n",
       " 'Diamond Creek': 2012.0,\n",
       " 'Dingley Village': 1980.0,\n",
       " 'Doncaster East': 1980.0,\n",
       " 'Donvale': 1960.0,\n",
       " 'Doreen': 2011.0,\n",
       " 'Eltham': 1980.0,\n",
       " 'Epping': 1980.0,\n",
       " 'Forest Hill': 1960.0,\n",
       " 'Frankston': 1960.0,\n",
       " 'Frankston North': 1960.0,\n",
       " 'Frankston South': 1960.0,\n",
       " 'Gisborne': 1930.0,\n",
       " 'Gladstone Park': 1970.0,\n",
       " 'Greensborough': 1980.0,\n",
       " 'Hallam': 1970.0,\n",
       " 'Healesville': 2009.0,\n",
       " 'Highett': 1970.0,\n",
       " 'Hillside': 1999.0,\n",
       " 'Huntingdale': 1960.0,\n",
       " 'Keilor Downs': 1980.0,\n",
       " 'Keilor Lodge': 1987.0,\n",
       " 'Keysborough': 1969.0,\n",
       " 'Kings Park': 1970.0,\n",
       " 'Lalor': 1970.0,\n",
       " 'Lower Plenty': 1995.0,\n",
       " 'Melton': 1980.0,\n",
       " 'Mernda': 2012.0,\n",
       " 'Mill Park': 1985.0,\n",
       " 'Mitcham': 1970.0,\n",
       " 'Montmorency': 1980.0,\n",
       " 'Mordialloc': 1970.0,\n",
       " 'Mount Waverley': 1960.0,\n",
       " 'Narre Warren': 1972.0,\n",
       " 'Nunawading': 1970.0,\n",
       " 'Oakleigh East': 1960.0,\n",
       " 'Parkdale': 1950.0,\n",
       " 'Point Cook': 2011.0,\n",
       " 'Ringwood East': 1960.0,\n",
       " 'Rockbank': 1970.0,\n",
       " 'Rowville': 2003.0,\n",
       " 'Sandringham': 1970.0,\n",
       " 'Seaford': 1970.0,\n",
       " 'Skye': 2002.0,\n",
       " 'South Morang': 2005.0,\n",
       " 'Springvale': 1950.0,\n",
       " 'St Albans': 1960.0,\n",
       " 'Sunbury': 1960.0,\n",
       " 'Tarneit': 2009.0,\n",
       " 'Taylors Hill': 2005.0,\n",
       " 'Taylors Lakes': 1990.0,\n",
       " 'The Basin': 1960.0,\n",
       " 'Thomastown': 1970.0,\n",
       " 'Truganina': 2008.0,\n",
       " 'Tullamarine': 1960.0,\n",
       " 'Vermont': 1960.0,\n",
       " 'Wantirna': 1975.0,\n",
       " 'Wantirna South': 1980.0,\n",
       " 'Werribee': 1980.0,\n",
       " 'Westmeadows': 1975.0,\n",
       " 'Williams Landing': 2014.0,\n",
       " 'Wollert': 2012.0,\n",
       " 'Wyndham Vale': 1990.0,\n",
       " 'Black Rock': 1950.0,\n",
       " 'Blackburn': 1950.0,\n",
       " 'Blackburn North': 1940.0,\n",
       " 'Bonbeach': 1950.0,\n",
       " 'Carrum': 1930.0,\n",
       " 'Chelsea': 1970.0,\n",
       " 'Clayton': 1970.0,\n",
       " 'Doveton': 1960.0,\n",
       " 'Ferntree Gully': 1960.0,\n",
       " 'Glen Waverley': 1970.0,\n",
       " 'Greenvale': 1990.0,\n",
       " 'Heathmont': 1975.0,\n",
       " 'Hoppers Crossing': 1980.0,\n",
       " 'McKinnon': 1920.0,\n",
       " 'Melton South': 1975.0,\n",
       " 'Melton West': 1980.0,\n",
       " 'Mentone': 1980.0,\n",
       " 'Mooroolbark': 1960.0,\n",
       " 'Mulgrave': 1960.0,\n",
       " 'Ringwood': 1975.0,\n",
       " 'Roxburgh Park': 2000.0,\n",
       " 'Seabrook': 1985.0,\n",
       " 'Templestowe': 1980.0,\n",
       " 'Vermont South': 1970.0,\n",
       " 'Warrandyte': 1975.0,\n",
       " 'Watsonia North': 1960.0,\n",
       " 'Wheelers Hill': 1968.0,\n",
       " 'Altona Meadows': 1975.0,\n",
       " 'Blackburn South': 1960.0,\n",
       " 'Carrum Downs': 1993.0,\n",
       " 'Clayton South': 1970.0,\n",
       " 'Croydon North': 1950.0,\n",
       " 'Langwarrin': 2002.0,\n",
       " 'Noble Park': 1960.0,\n",
       " 'Notting Hill': 1970.0,\n",
       " 'Ringwood North': 1955.0,\n",
       " 'Sydenham': 2000.0,\n",
       " 'Albanvale': 1980.0,\n",
       " 'Beaconsfield Upper': 1960.0,\n",
       " 'Chelsea Heights': 1960.0,\n",
       " 'Dallas': 1960.0,\n",
       " 'Deer Park': 1955.0,\n",
       " 'Eltham North': 1980.0,\n",
       " 'Keilor': 1975.0,\n",
       " 'Meadow Heights': 1992.0,\n",
       " 'Mount Evelyn': 1930.0,\n",
       " 'North Warrandyte': 1970.0,\n",
       " 'Pakenham': 2005.0,\n",
       " 'Riddells Creek': 2011.0,\n",
       " 'Sandhurst': 2010.0,\n",
       " 'Scoresby': 1985.0,\n",
       " 'Silvan': 1970.0,\n",
       " 'Aspendale': 1955.0,\n",
       " 'Chirnside Park': 1996.0,\n",
       " 'Croydon Hills': 1985.0,\n",
       " 'Croydon South': 1970.0,\n",
       " 'Derrimut': 2010.0,\n",
       " 'Diggers Rest': 1980.0,\n",
       " 'Edithvale': 1975.0,\n",
       " 'Hampton Park': 1960.0,\n",
       " 'Knoxfield': 1994.0,\n",
       " 'St Helena': 1985.0,\n",
       " 'Upwey': 1970.0,\n",
       " 'Bacchus Marsh': 1970.0,\n",
       " 'Coolaroo': 1975.0,\n",
       " 'Cranbourne North': 1990.0,\n",
       " 'Kilsyth': 1957.0,\n",
       " 'Montrose': 1980.0,\n",
       " 'Aspendale Gardens': 1970.0,\n",
       " 'Bullengarook': 1970.0,\n",
       " 'Clarinda': 1950.0,\n",
       " 'Deepdene': 1995.0,\n",
       " 'Delahey': 1995.0,\n",
       " 'Hurstbridge': 1985.0,\n",
       " 'Kurunjang': 1970.0,\n",
       " 'Wonga Park': 1970.0,\n",
       " 'Endeavour Hills': 1980.0,\n",
       " 'Officer': 2015.0,\n",
       " 'Waterways': 2004.0,\n",
       " 'Ardeer': 1960.0,\n",
       " 'Beaconsfield': 2005.0,\n",
       " 'Springvale South': 1980.0,\n",
       " 'Yarra Glen': 1975.0,\n",
       " 'Brookfield': 2010.0,\n",
       " 'Emerald': 1980.0,\n",
       " 'Whittlesea': 1996.0,\n",
       " 'Burnside': 2000.0,\n",
       " 'Attwood': 1970.0,\n",
       " 'Wallan': 1978.0,\n",
       " 'New Gisborne': 1970.0,\n",
       " 'Plumpton': 2012.0,\n",
       " 'Monbulk': 1970.0}"
      ]
     },
     "execution_count": 15,
     "metadata": {},
     "output_type": "execute_result"
    }
   ],
   "source": [
    "#It will make more sense to replace missing values of year built with modal value of that suburb area  as we can \n",
    "#assume that Melbourne went into fast development phase during that time and because of this most of the houses were\n",
    "#built during that time.\n",
    "\n",
    "year_built_mode = {}\n",
    "for v in df['Suburb'].unique():\n",
    "    mode = df['YearBuilt'][df['Suburb']==v].mode()\n",
    "    if len(mode)==0:\n",
    "        year_built_mode[v] = df['YearBuilt'].mode()[0]\n",
    "    else:\n",
    "        year_built_mode[v] = df['YearBuilt'][df['Suburb']==v].mode()[0]\n",
    "year_built_mode"
   ]
  },
  {
   "cell_type": "code",
   "execution_count": 16,
   "metadata": {},
   "outputs": [
    {
     "data": {
      "text/plain": [
       "Suburb           0\n",
       "Address          0\n",
       "Rooms            0\n",
       "Type             0\n",
       "Price            0\n",
       "Method           0\n",
       "SellerG          0\n",
       "Date             0\n",
       "Distance         0\n",
       "Postcode         0\n",
       "Bedroom2         0\n",
       "Bathroom         0\n",
       "Car              0\n",
       "Landsize         0\n",
       "BuildingArea     0\n",
       "YearBuilt        0\n",
       "CouncilArea      0\n",
       "Lattitude        0\n",
       "Longtitude       0\n",
       "Regionname       0\n",
       "Propertycount    0\n",
       "dtype: int64"
      ]
     },
     "execution_count": 16,
     "metadata": {},
     "output_type": "execute_result"
    }
   ],
   "source": [
    "miss_bool = df['YearBuilt'].isnull()\n",
    "for i,v in enumerate(df['Suburb']):\n",
    "    if miss_bool[i]:\n",
    "        df['YearBuilt'][i] = year_built_mode[v]\n",
    "df.isnull().sum()"
   ]
  },
  {
   "cell_type": "code",
   "execution_count": 17,
   "metadata": {},
   "outputs": [
    {
     "data": {
      "text/plain": [
       "268"
      ]
     },
     "execution_count": 17,
     "metadata": {},
     "output_type": "execute_result"
    }
   ],
   "source": [
    "len(df['SellerG'].unique())"
   ]
  },
  {
   "cell_type": "code",
   "execution_count": 18,
   "metadata": {},
   "outputs": [
    {
     "name": "stdout",
     "output_type": "stream",
     "text": [
      "<class 'pandas.core.frame.DataFrame'>\n",
      "RangeIndex: 13580 entries, 0 to 13579\n",
      "Data columns (total 21 columns):\n",
      " #   Column         Non-Null Count  Dtype  \n",
      "---  ------         --------------  -----  \n",
      " 0   Suburb         13580 non-null  object \n",
      " 1   Address        13580 non-null  object \n",
      " 2   Rooms          13580 non-null  int64  \n",
      " 3   Type           13580 non-null  object \n",
      " 4   Price          13580 non-null  float64\n",
      " 5   Method         13580 non-null  object \n",
      " 6   SellerG        13580 non-null  object \n",
      " 7   Date           13580 non-null  object \n",
      " 8   Distance       13580 non-null  float64\n",
      " 9   Postcode       13580 non-null  float64\n",
      " 10  Bedroom2       13580 non-null  float64\n",
      " 11  Bathroom       13580 non-null  float64\n",
      " 12  Car            13580 non-null  float64\n",
      " 13  Landsize       13580 non-null  float64\n",
      " 14  BuildingArea   13580 non-null  float64\n",
      " 15  YearBuilt      13580 non-null  float64\n",
      " 16  CouncilArea    13580 non-null  object \n",
      " 17  Lattitude      13580 non-null  float64\n",
      " 18  Longtitude     13580 non-null  float64\n",
      " 19  Regionname     13580 non-null  object \n",
      " 20  Propertycount  13580 non-null  float64\n",
      "dtypes: float64(12), int64(1), object(8)\n",
      "memory usage: 2.2+ MB\n"
     ]
    }
   ],
   "source": [
    "df.info()"
   ]
  },
  {
   "cell_type": "code",
   "execution_count": 19,
   "metadata": {},
   "outputs": [
    {
     "data": {
      "text/plain": [
       "<bound method Series.unique of 0         3/12/2016\n",
       "1         4/02/2016\n",
       "2         4/03/2017\n",
       "3         4/03/2017\n",
       "4         4/06/2016\n",
       "            ...    \n",
       "13575    26/08/2017\n",
       "13576    26/08/2017\n",
       "13577    26/08/2017\n",
       "13578    26/08/2017\n",
       "13579    26/08/2017\n",
       "Name: Date, Length: 13580, dtype: object>"
      ]
     },
     "execution_count": 19,
     "metadata": {},
     "output_type": "execute_result"
    }
   ],
   "source": [
    "df['Date'].unique"
   ]
  },
  {
   "cell_type": "code",
   "execution_count": 20,
   "metadata": {
    "scrolled": true
   },
   "outputs": [],
   "source": [
    "#convert date to posting year using regex\n",
    "import re\n",
    "p = re.compile(\"[0-9]{4}$\")\n",
    "# df['Date'][2079]\n",
    "for i, v in enumerate(df['Date']):\n",
    "    result = p.search(str(df['Date'][i]))\n",
    "    df['Date'][i] = result.group(0)"
   ]
  },
  {
   "cell_type": "code",
   "execution_count": 21,
   "metadata": {},
   "outputs": [],
   "source": [
    "df['Postcode'] = df['Postcode'].astype(int)\n",
    "df['Bathroom'] = df['Bathroom'].astype(int)\n",
    "df['Date'] = df['Date'].astype(int)\n",
    "df['YearBuilt'] = df['YearBuilt'].astype(int)\n",
    "df['Propertycount'] = df['Propertycount'].astype(int)"
   ]
  },
  {
   "cell_type": "code",
   "execution_count": 22,
   "metadata": {},
   "outputs": [
    {
     "name": "stdout",
     "output_type": "stream",
     "text": [
      "<class 'pandas.core.frame.DataFrame'>\n",
      "RangeIndex: 13580 entries, 0 to 13579\n",
      "Data columns (total 21 columns):\n",
      " #   Column         Non-Null Count  Dtype  \n",
      "---  ------         --------------  -----  \n",
      " 0   Suburb         13580 non-null  object \n",
      " 1   Address        13580 non-null  object \n",
      " 2   Rooms          13580 non-null  int64  \n",
      " 3   Type           13580 non-null  object \n",
      " 4   Price          13580 non-null  float64\n",
      " 5   Method         13580 non-null  object \n",
      " 6   SellerG        13580 non-null  object \n",
      " 7   Date           13580 non-null  int64  \n",
      " 8   Distance       13580 non-null  float64\n",
      " 9   Postcode       13580 non-null  int64  \n",
      " 10  Bedroom2       13580 non-null  float64\n",
      " 11  Bathroom       13580 non-null  int64  \n",
      " 12  Car            13580 non-null  float64\n",
      " 13  Landsize       13580 non-null  float64\n",
      " 14  BuildingArea   13580 non-null  float64\n",
      " 15  YearBuilt      13580 non-null  int64  \n",
      " 16  CouncilArea    13580 non-null  object \n",
      " 17  Lattitude      13580 non-null  float64\n",
      " 18  Longtitude     13580 non-null  float64\n",
      " 19  Regionname     13580 non-null  object \n",
      " 20  Propertycount  13580 non-null  int64  \n",
      "dtypes: float64(8), int64(6), object(7)\n",
      "memory usage: 2.2+ MB\n"
     ]
    }
   ],
   "source": [
    "df.info()"
   ]
  },
  {
   "cell_type": "code",
   "execution_count": 23,
   "metadata": {},
   "outputs": [],
   "source": [
    "df.drop(columns=['Bedroom2', 'Address'], inplace = True)"
   ]
  },
  {
   "cell_type": "markdown",
   "metadata": {},
   "source": [
    "## Creation of new attributes"
   ]
  },
  {
   "cell_type": "code",
   "execution_count": 24,
   "metadata": {},
   "outputs": [],
   "source": [
    "#Convert year built to age\n",
    "df['Age'] = 2021-df['YearBuilt']\n",
    "df.drop(columns=['YearBuilt'], inplace=True)"
   ]
  },
  {
   "cell_type": "code",
   "execution_count": 25,
   "metadata": {},
   "outputs": [],
   "source": [
    "df['AdAge'] = 2021-df['Date']\n",
    "df.drop(columns=['Date'], inplace=True)"
   ]
  },
  {
   "cell_type": "markdown",
   "metadata": {},
   "source": [
    "## Exploratory data analysis"
   ]
  },
  {
   "cell_type": "code",
   "execution_count": 26,
   "metadata": {},
   "outputs": [
    {
     "data": {
      "text/plain": [
       "<AxesSubplot:xlabel='Age', ylabel='Density'>"
      ]
     },
     "execution_count": 26,
     "metadata": {},
     "output_type": "execute_result"
    },
    {
     "data": {
      "image/png": "[encoded data removed]",
      "text/plain": [
       "<Figure size 432x288 with 1 Axes>"
      ]
     },
     "metadata": {
      "needs_background": "light"
     },
     "output_type": "display_data"
    }
   ],
   "source": [
    "sns.distplot(df['Age'])"
   ]
  },
  {
   "cell_type": "code",
   "execution_count": 27,
   "metadata": {},
   "outputs": [
    {
     "data": {
      "text/plain": [
       "<AxesSubplot:xlabel='Age'>"
      ]
     },
     "execution_count": 27,
     "metadata": {},
     "output_type": "execute_result"
    },
    {
     "data": {
      "image/png": "[encoded data removed]",
      "text/plain": [
       "<Figure size 432x288 with 1 Axes>"
      ]
     },
     "metadata": {
      "needs_background": "light"
     },
     "output_type": "display_data"
    }
   ],
   "source": [
    "df = df[df['Age']<=150]\n",
    "sns.boxplot(x = df['Age'])"
   ]
  },
  {
   "cell_type": "code",
   "execution_count": 28,
   "metadata": {},
   "outputs": [
    {
     "data": {
      "text/plain": [
       "(13561, 19)"
      ]
     },
     "execution_count": 28,
     "metadata": {},
     "output_type": "execute_result"
    }
   ],
   "source": [
    "df.shape"
   ]
  },
  {
   "cell_type": "code",
   "execution_count": 29,
   "metadata": {},
   "outputs": [
    {
     "data": {
      "text/plain": [
       "<AxesSubplot:xlabel='Age', ylabel='Density'>"
      ]
     },
     "execution_count": 29,
     "metadata": {},
     "output_type": "execute_result"
    },
    {
     "data": {
      "image/png": "[encoded data removed]",
      "text/plain": [
       "<Figure size 432x288 with 1 Axes>"
      ]
     },
     "metadata": {
      "needs_background": "light"
     },
     "output_type": "display_data"
    }
   ],
   "source": [
    "sns.distplot(df['Age'])"
   ]
  },
  {
   "cell_type": "code",
   "execution_count": 30,
   "metadata": {},
   "outputs": [
    {
     "data": {
      "text/plain": [
       "<AxesSubplot:xlabel='AdAge', ylabel='Density'>"
      ]
     },
     "execution_count": 30,
     "metadata": {},
     "output_type": "execute_result"
    },
    {
     "data": {
      "image/png": "[encoded data removed]",
      "text/plain": [
       "<Figure size 432x288 with 1 Axes>"
      ]
     },
     "metadata": {
      "needs_background": "light"
     },
     "output_type": "display_data"
    }
   ],
   "source": [
    "sns.distplot(df['AdAge'])"
   ]
  },
  {
   "cell_type": "code",
   "execution_count": 31,
   "metadata": {},
   "outputs": [
    {
     "data": {
      "text/plain": [
       "<AxesSubplot:xlabel='AdAge', ylabel='count'>"
      ]
     },
     "execution_count": 31,
     "metadata": {},
     "output_type": "execute_result"
    },
    {
     "data": {
      "image/png": "[encoded data removed]",
      "text/plain": [
       "<Figure size 432x288 with 1 Axes>"
      ]
     },
     "metadata": {
      "needs_background": "light"
     },
     "output_type": "display_data"
    }
   ],
   "source": [
    "sns.countplot(df['AdAge'])"
   ]
  },
  {
   "cell_type": "code",
   "execution_count": 32,
   "metadata": {},
   "outputs": [
    {
     "data": {
      "text/plain": [
       "<AxesSubplot:xlabel='Price', ylabel='Density'>"
      ]
     },
     "execution_count": 32,
     "metadata": {},
     "output_type": "execute_result"
    },
    {
     "data": {
      "image/png": "[encoded data removed]",
      "text/plain": [
       "<Figure size 432x288 with 1 Axes>"
      ]
     },
     "metadata": {
      "needs_background": "light"
     },
     "output_type": "display_data"
    }
   ],
   "source": [
    "sns.distplot(df['Price'])"
   ]
  },
  {
   "cell_type": "code",
   "execution_count": 33,
   "metadata": {
    "scrolled": true
   },
   "outputs": [
    {
     "data": {
      "text/plain": [
       "<AxesSubplot:xlabel='Price_log', ylabel='Density'>"
      ]
     },
     "execution_count": 33,
     "metadata": {},
     "output_type": "execute_result"
    },
    {
     "data": {
      "image/png": "[encoded data removed]",
      "text/plain": [
       "<Figure size 432x288 with 1 Axes>"
      ]
     },
     "metadata": {
      "needs_background": "light"
     },
     "output_type": "display_data"
    }
   ],
   "source": [
    "# We can change the graph for better result by using log transformation\n",
    "df['Price_log'] = np.log(1+df['Price'])\n",
    "sns.distplot(df['Price_log'])"
   ]
  },
  {
   "cell_type": "code",
   "execution_count": 34,
   "metadata": {},
   "outputs": [],
   "source": [
    "# df.drop(columns = ['Price'], inplace=True)"
   ]
  },
  {
   "cell_type": "code",
   "execution_count": 35,
   "metadata": {},
   "outputs": [
    {
     "data": {
      "text/html": [
       "<div>\n",
       "<style scoped>\n",
       "    .dataframe tbody tr th:only-of-type {\n",
       "        vertical-align: middle;\n",
       "    }\n",
       "\n",
       "    .dataframe tbody tr th {\n",
       "        vertical-align: top;\n",
       "    }\n",
       "\n",
       "    .dataframe thead th {\n",
       "        text-align: right;\n",
       "    }\n",
       "</style>\n",
       "<table border=\"1\" class=\"dataframe\">\n",
       "  <thead>\n",
       "    <tr style=\"text-align: right;\">\n",
       "      <th></th>\n",
       "      <th>SellerG</th>\n",
       "      <th>Count</th>\n",
       "    </tr>\n",
       "  </thead>\n",
       "  <tbody>\n",
       "    <tr>\n",
       "      <th>0</th>\n",
       "      <td>Biggin</td>\n",
       "      <td>392</td>\n",
       "    </tr>\n",
       "    <tr>\n",
       "      <th>1</th>\n",
       "      <td>Nelson</td>\n",
       "      <td>1562</td>\n",
       "    </tr>\n",
       "    <tr>\n",
       "      <th>2</th>\n",
       "      <td>Jellis</td>\n",
       "      <td>1315</td>\n",
       "    </tr>\n",
       "    <tr>\n",
       "      <th>3</th>\n",
       "      <td>Greg</td>\n",
       "      <td>237</td>\n",
       "    </tr>\n",
       "    <tr>\n",
       "      <th>4</th>\n",
       "      <td>LITTLE</td>\n",
       "      <td>35</td>\n",
       "    </tr>\n",
       "  </tbody>\n",
       "</table>\n",
       "</div>"
      ],
      "text/plain": [
       "  SellerG  Count\n",
       "0  Biggin    392\n",
       "1  Nelson   1562\n",
       "2  Jellis   1315\n",
       "3    Greg    237\n",
       "4  LITTLE     35"
      ]
     },
     "execution_count": 35,
     "metadata": {},
     "output_type": "execute_result"
    }
   ],
   "source": [
    "import nltk\n",
    "freq = nltk.FreqDist(df['SellerG'])\n",
    "df_sg = pd.DataFrame({'SellerG': list(freq.keys()),\n",
    "                 'Count': list(freq.values())})\n",
    "df_sg.head()"
   ]
  },
  {
   "cell_type": "code",
   "execution_count": 36,
   "metadata": {
    "scrolled": true
   },
   "outputs": [
    {
     "data": {
      "image/png": "[encoded data removed]",
      "text/plain": [
       "<Figure size 1152x648 with 1 Axes>"
      ]
     },
     "metadata": {
      "needs_background": "light"
     },
     "output_type": "display_data"
    }
   ],
   "source": [
    "d = df_sg.nlargest(columns='Count', n=20)\n",
    "plt.figure(figsize=(16,9))\n",
    "sns.barplot(data = d, x='SellerG', y='Count')\n",
    "plt.show()"
   ]
  },
  {
   "cell_type": "code",
   "execution_count": 37,
   "metadata": {},
   "outputs": [
    {
     "data": {
      "text/html": [
       "<div>\n",
       "<style scoped>\n",
       "    .dataframe tbody tr th:only-of-type {\n",
       "        vertical-align: middle;\n",
       "    }\n",
       "\n",
       "    .dataframe tbody tr th {\n",
       "        vertical-align: top;\n",
       "    }\n",
       "\n",
       "    .dataframe thead th {\n",
       "        text-align: right;\n",
       "    }\n",
       "</style>\n",
       "<table border=\"1\" class=\"dataframe\">\n",
       "  <thead>\n",
       "    <tr style=\"text-align: right;\">\n",
       "      <th></th>\n",
       "      <th>Suburb</th>\n",
       "      <th>Count</th>\n",
       "    </tr>\n",
       "  </thead>\n",
       "  <tbody>\n",
       "    <tr>\n",
       "      <th>0</th>\n",
       "      <td>Abbotsford</td>\n",
       "      <td>56</td>\n",
       "    </tr>\n",
       "    <tr>\n",
       "      <th>1</th>\n",
       "      <td>Airport West</td>\n",
       "      <td>67</td>\n",
       "    </tr>\n",
       "    <tr>\n",
       "      <th>2</th>\n",
       "      <td>Albert Park</td>\n",
       "      <td>69</td>\n",
       "    </tr>\n",
       "    <tr>\n",
       "      <th>3</th>\n",
       "      <td>Alphington</td>\n",
       "      <td>34</td>\n",
       "    </tr>\n",
       "    <tr>\n",
       "      <th>4</th>\n",
       "      <td>Altona</td>\n",
       "      <td>74</td>\n",
       "    </tr>\n",
       "  </tbody>\n",
       "</table>\n",
       "</div>"
      ],
      "text/plain": [
       "         Suburb  Count\n",
       "0    Abbotsford     56\n",
       "1  Airport West     67\n",
       "2   Albert Park     69\n",
       "3    Alphington     34\n",
       "4        Altona     74"
      ]
     },
     "execution_count": 37,
     "metadata": {},
     "output_type": "execute_result"
    }
   ],
   "source": [
    "import nltk\n",
    "freq = nltk.FreqDist(df['Suburb'])\n",
    "df_sb = pd.DataFrame({'Suburb': list(freq.keys()),\n",
    "                 'Count': list(freq.values())})\n",
    "df_sb.head()"
   ]
  },
  {
   "cell_type": "code",
   "execution_count": 38,
   "metadata": {
    "scrolled": true
   },
   "outputs": [
    {
     "data": {
      "image/png": "[encoded data removed]",
      "text/plain": [
       "<Figure size 1728x1008 with 1 Axes>"
      ]
     },
     "metadata": {
      "needs_background": "light"
     },
     "output_type": "display_data"
    }
   ],
   "source": [
    "d = df_sb.nlargest(columns='Count', n=20)\n",
    "plt.figure(figsize=(24,14))\n",
    "sns.barplot(data = d, x='Suburb', y='Count')\n",
    "plt.show()"
   ]
  },
  {
   "cell_type": "markdown",
   "metadata": {},
   "source": [
    "## Correlation Matrix"
   ]
  },
  {
   "cell_type": "code",
   "execution_count": 39,
   "metadata": {
    "scrolled": false
   },
   "outputs": [
    {
     "data": {
      "text/plain": [
       "<AxesSubplot:>"
      ]
     },
     "execution_count": 39,
     "metadata": {},
     "output_type": "execute_result"
    },
    {
     "data": {
      "image/png": "[encoded data removed]",
      "text/plain": [
       "<Figure size 1152x864 with 2 Axes>"
      ]
     },
     "metadata": {
      "needs_background": "light"
     },
     "output_type": "display_data"
    }
   ],
   "source": [
    "corr = df.corr()\n",
    "plt.figure(figsize=(16, 12))\n",
    "sns.heatmap(corr, annot=True, cmap='coolwarm', annot_kws={'size': 10})"
   ]
  },
  {
   "cell_type": "code",
   "execution_count": 40,
   "metadata": {},
   "outputs": [
    {
     "name": "stdout",
     "output_type": "stream",
     "text": [
      "<class 'pandas.core.frame.DataFrame'>\n",
      "Int64Index: 13561 entries, 0 to 13579\n",
      "Data columns (total 20 columns):\n",
      " #   Column         Non-Null Count  Dtype  \n",
      "---  ------         --------------  -----  \n",
      " 0   Suburb         13561 non-null  object \n",
      " 1   Rooms          13561 non-null  int64  \n",
      " 2   Type           13561 non-null  object \n",
      " 3   Price          13561 non-null  float64\n",
      " 4   Method         13561 non-null  object \n",
      " 5   SellerG        13561 non-null  object \n",
      " 6   Distance       13561 non-null  float64\n",
      " 7   Postcode       13561 non-null  int64  \n",
      " 8   Bathroom       13561 non-null  int64  \n",
      " 9   Car            13561 non-null  float64\n",
      " 10  Landsize       13561 non-null  float64\n",
      " 11  BuildingArea   13561 non-null  float64\n",
      " 12  CouncilArea    13561 non-null  object \n",
      " 13  Lattitude      13561 non-null  float64\n",
      " 14  Longtitude     13561 non-null  float64\n",
      " 15  Regionname     13561 non-null  object \n",
      " 16  Propertycount  13561 non-null  int64  \n",
      " 17  Age            13561 non-null  int64  \n",
      " 18  AdAge          13561 non-null  int64  \n",
      " 19  Price_log      13561 non-null  float64\n",
      "dtypes: float64(8), int64(6), object(6)\n",
      "memory usage: 2.8+ MB\n"
     ]
    }
   ],
   "source": [
    "df.info()"
   ]
  },
  {
   "cell_type": "markdown",
   "metadata": {},
   "source": [
    "## Onehot Encoding"
   ]
  },
  {
   "cell_type": "code",
   "execution_count": 41,
   "metadata": {},
   "outputs": [
    {
     "data": {
      "text/plain": [
       "(13561, 645)"
      ]
     },
     "execution_count": 41,
     "metadata": {},
     "output_type": "execute_result"
    }
   ],
   "source": [
    "df = pd.get_dummies(df, columns=['Suburb', 'Type', 'Method', 'SellerG', 'CouncilArea', 'Regionname'])\n",
    "df.shape"
   ]
  },
  {
   "cell_type": "markdown",
   "metadata": {},
   "source": [
    "## Input Split"
   ]
  },
  {
   "cell_type": "code",
   "execution_count": 42,
   "metadata": {},
   "outputs": [
    {
     "data": {
      "text/plain": [
       "Index(['Rooms', 'Price', 'Distance', 'Postcode', 'Bathroom', 'Car', 'Landsize',\n",
       "       'BuildingArea', 'Lattitude', 'Longtitude',\n",
       "       ...\n",
       "       'CouncilArea_Yarra', 'CouncilArea_Yarra Ranges',\n",
       "       'Regionname_Eastern Metropolitan', 'Regionname_Eastern Victoria',\n",
       "       'Regionname_Northern Metropolitan', 'Regionname_Northern Victoria',\n",
       "       'Regionname_South-Eastern Metropolitan',\n",
       "       'Regionname_Southern Metropolitan', 'Regionname_Western Metropolitan',\n",
       "       'Regionname_Western Victoria'],\n",
       "      dtype='object', length=645)"
      ]
     },
     "execution_count": 42,
     "metadata": {},
     "output_type": "execute_result"
    }
   ],
   "source": [
    "df.columns"
   ]
  },
  {
   "cell_type": "code",
   "execution_count": 43,
   "metadata": {},
   "outputs": [
    {
     "data": {
      "text/plain": [
       "(10170, 643)"
      ]
     },
     "execution_count": 43,
     "metadata": {},
     "output_type": "execute_result"
    }
   ],
   "source": [
    "from sklearn.model_selection import train_test_split\n",
    "\n",
    "x=df.drop(columns=['Price_log', 'Price'])\n",
    "y=df['Price']\n",
    "\n",
    "x_train, x_test, y_train, y_test = train_test_split(x, y, random_state = 64, test_size=0.25)\n",
    "x_train.shape"
   ]
  },
  {
   "cell_type": "code",
   "execution_count": 44,
   "metadata": {},
   "outputs": [
    {
     "data": {
      "text/plain": [
       "(3391, 643)"
      ]
     },
     "execution_count": 44,
     "metadata": {},
     "output_type": "execute_result"
    }
   ],
   "source": [
    "x_test.shape"
   ]
  },
  {
   "cell_type": "markdown",
   "metadata": {},
   "source": [
    "## Model Training"
   ]
  },
  {
   "cell_type": "code",
   "execution_count": 45,
   "metadata": {},
   "outputs": [
    {
     "data": {
      "text/plain": [
       "LinearRegression()"
      ]
     },
     "execution_count": 45,
     "metadata": {},
     "output_type": "execute_result"
    }
   ],
   "source": [
    "from sklearn.linear_model import LinearRegression\n",
    "\n",
    "model = LinearRegression()\n",
    "model.fit(x_train, y_train)"
   ]
  },
  {
   "cell_type": "code",
   "execution_count": 46,
   "metadata": {},
   "outputs": [],
   "source": [
    "pred = model.predict(x_test)"
   ]
  },
  {
   "cell_type": "code",
   "execution_count": 47,
   "metadata": {},
   "outputs": [
    {
     "data": {
      "text/plain": [
       "-771392485591.5714"
      ]
     },
     "execution_count": 47,
     "metadata": {},
     "output_type": "execute_result"
    }
   ],
   "source": [
    "from sklearn.metrics import r2_score\n",
    "r2_score(y_test, pred)"
   ]
  },
  {
   "cell_type": "code",
   "execution_count": 48,
   "metadata": {},
   "outputs": [
    {
     "name": "stdout",
     "output_type": "stream",
     "text": [
      "Mean Absolute Error: 28233581595.357067\n",
      "Mean Squared Error: 2.913981027447926e+23\n",
      "Root Mean Squared Error: 539813025727.2351\n"
     ]
    }
   ],
   "source": [
    "from sklearn import metrics\n",
    "print('Mean Absolute Error:', metrics.mean_absolute_error(y_test, pred))\n",
    "print('Mean Squared Error:', metrics.mean_squared_error(y_test, pred))\n",
    "print('Root Mean Squared Error:', np.sqrt(metrics.mean_squared_error(y_test, pred)))"
   ]
  },
  {
   "cell_type": "code",
   "execution_count": null,
   "metadata": {},
   "outputs": [],
   "source": []
  },
  {
   "cell_type": "code",
   "execution_count": 49,
   "metadata": {},
   "outputs": [
    {
     "data": {
      "text/plain": [
       "DecisionTreeRegressor()"
      ]
     },
     "execution_count": 49,
     "metadata": {},
     "output_type": "execute_result"
    }
   ],
   "source": [
    "from sklearn.tree import DecisionTreeRegressor\n",
    "model = DecisionTreeRegressor()\n",
    "model.fit(x_train, y_train)"
   ]
  },
  {
   "cell_type": "code",
   "execution_count": 50,
   "metadata": {},
   "outputs": [],
   "source": [
    "pred = model.predict(x_test)"
   ]
  },
  {
   "cell_type": "code",
   "execution_count": 51,
   "metadata": {},
   "outputs": [
    {
     "data": {
      "text/plain": [
       "0.5964525375850993"
      ]
     },
     "execution_count": 51,
     "metadata": {},
     "output_type": "execute_result"
    }
   ],
   "source": [
    "r2_score(y_test, pred)"
   ]
  },
  {
   "cell_type": "code",
   "execution_count": 52,
   "metadata": {},
   "outputs": [
    {
     "name": "stdout",
     "output_type": "stream",
     "text": [
      "Mean Absolute Error: 235834.56649955767\n",
      "Mean Squared Error: 152442455833.41992\n",
      "Root Mean Squared Error: 390438.79908817966\n"
     ]
    }
   ],
   "source": [
    "from sklearn import metrics\n",
    "print('Mean Absolute Error:', metrics.mean_absolute_error(y_test, pred))\n",
    "print('Mean Squared Error:', metrics.mean_squared_error(y_test, pred))\n",
    "print('Root Mean Squared Error:', np.sqrt(metrics.mean_squared_error(y_test, pred)))"
   ]
  },
  {
   "cell_type": "code",
   "execution_count": null,
   "metadata": {},
   "outputs": [],
   "source": []
  },
  {
   "cell_type": "code",
   "execution_count": 53,
   "metadata": {},
   "outputs": [
    {
     "data": {
      "text/plain": [
       "ExtraTreeRegressor()"
      ]
     },
     "execution_count": 53,
     "metadata": {},
     "output_type": "execute_result"
    }
   ],
   "source": [
    "from sklearn.tree import ExtraTreeRegressor\n",
    "model = ExtraTreeRegressor()\n",
    "model.fit(x_train, y_train)"
   ]
  },
  {
   "cell_type": "code",
   "execution_count": 54,
   "metadata": {},
   "outputs": [],
   "source": [
    "pred = model.predict(x_test)"
   ]
  },
  {
   "cell_type": "code",
   "execution_count": 55,
   "metadata": {},
   "outputs": [
    {
     "data": {
      "text/plain": [
       "0.5658888838463059"
      ]
     },
     "execution_count": 55,
     "metadata": {},
     "output_type": "execute_result"
    }
   ],
   "source": [
    "r2_score(y_test, pred)"
   ]
  },
  {
   "cell_type": "code",
   "execution_count": 56,
   "metadata": {},
   "outputs": [
    {
     "name": "stdout",
     "output_type": "stream",
     "text": [
      "Mean Absolute Error: 237009.94190504277\n",
      "Mean Squared Error: 163988057947.48718\n",
      "Root Mean Squared Error: 404954.38995952025\n"
     ]
    }
   ],
   "source": [
    "from sklearn import metrics\n",
    "print('Mean Absolute Error:', metrics.mean_absolute_error(y_test, pred))\n",
    "print('Mean Squared Error:', metrics.mean_squared_error(y_test, pred))\n",
    "print('Root Mean Squared Error:', np.sqrt(metrics.mean_squared_error(y_test, pred)))"
   ]
  },
  {
   "cell_type": "code",
   "execution_count": null,
   "metadata": {},
   "outputs": [],
   "source": []
  },
  {
   "cell_type": "code",
   "execution_count": 57,
   "metadata": {},
   "outputs": [
    {
     "data": {
      "text/plain": [
       "Ridge()"
      ]
     },
     "execution_count": 57,
     "metadata": {},
     "output_type": "execute_result"
    }
   ],
   "source": [
    "from sklearn.linear_model import Ridge\n",
    "model = Ridge()\n",
    "model.fit(x_train, y_train)"
   ]
  },
  {
   "cell_type": "code",
   "execution_count": 58,
   "metadata": {},
   "outputs": [],
   "source": [
    "pred = model.predict(x_test)"
   ]
  },
  {
   "cell_type": "code",
   "execution_count": 59,
   "metadata": {},
   "outputs": [
    {
     "data": {
      "text/plain": [
       "0.6815442664591774"
      ]
     },
     "execution_count": 59,
     "metadata": {},
     "output_type": "execute_result"
    }
   ],
   "source": [
    "r2_score(y_test, pred)"
   ]
  },
  {
   "cell_type": "code",
   "execution_count": 60,
   "metadata": {},
   "outputs": [
    {
     "name": "stdout",
     "output_type": "stream",
     "text": [
      "Mean Absolute Error: 230395.61518189617\n",
      "Mean Squared Error: 120298548787.01784\n",
      "Root Mean Squared Error: 346840.8118820763\n"
     ]
    }
   ],
   "source": [
    "from sklearn import metrics\n",
    "print('Mean Absolute Error:', metrics.mean_absolute_error(y_test, pred))\n",
    "print('Mean Squared Error:', metrics.mean_squared_error(y_test, pred))\n",
    "print('Root Mean Squared Error:', np.sqrt(metrics.mean_squared_error(y_test, pred)))"
   ]
  },
  {
   "cell_type": "code",
   "execution_count": null,
   "metadata": {},
   "outputs": [],
   "source": []
  },
  {
   "cell_type": "code",
   "execution_count": 61,
   "metadata": {},
   "outputs": [
    {
     "data": {
      "text/plain": [
       "Lasso()"
      ]
     },
     "execution_count": 61,
     "metadata": {},
     "output_type": "execute_result"
    }
   ],
   "source": [
    "from sklearn.linear_model import Lasso\n",
    "model = Lasso()\n",
    "model.fit(x_train, y_train)"
   ]
  },
  {
   "cell_type": "code",
   "execution_count": 62,
   "metadata": {},
   "outputs": [],
   "source": [
    "pred = model.predict(x_test)"
   ]
  },
  {
   "cell_type": "code",
   "execution_count": 63,
   "metadata": {},
   "outputs": [
    {
     "data": {
      "text/plain": [
       "0.6649623893188763"
      ]
     },
     "execution_count": 63,
     "metadata": {},
     "output_type": "execute_result"
    }
   ],
   "source": [
    "r2_score(y_test, pred)"
   ]
  },
  {
   "cell_type": "code",
   "execution_count": 64,
   "metadata": {},
   "outputs": [
    {
     "name": "stdout",
     "output_type": "stream",
     "text": [
      "Mean Absolute Error: 231441.8825744845\n",
      "Mean Squared Error: 126562451571.75807\n",
      "Root Mean Squared Error: 355756.1687051373\n"
     ]
    }
   ],
   "source": [
    "from sklearn import metrics\n",
    "print('Mean Absolute Error:', metrics.mean_absolute_error(y_test, pred))\n",
    "print('Mean Squared Error:', metrics.mean_squared_error(y_test, pred))\n",
    "print('Root Mean Squared Error:', np.sqrt(metrics.mean_squared_error(y_test, pred)))"
   ]
  },
  {
   "cell_type": "code",
   "execution_count": 65,
   "metadata": {
    "scrolled": true
   },
   "outputs": [
    {
     "data": {
      "text/html": [
       "<div>\n",
       "<style scoped>\n",
       "    .dataframe tbody tr th:only-of-type {\n",
       "        vertical-align: middle;\n",
       "    }\n",
       "\n",
       "    .dataframe tbody tr th {\n",
       "        vertical-align: top;\n",
       "    }\n",
       "\n",
       "    .dataframe thead th {\n",
       "        text-align: right;\n",
       "    }\n",
       "</style>\n",
       "<table border=\"1\" class=\"dataframe\">\n",
       "  <thead>\n",
       "    <tr style=\"text-align: right;\">\n",
       "      <th></th>\n",
       "      <th>Actual</th>\n",
       "      <th>Predicted</th>\n",
       "    </tr>\n",
       "  </thead>\n",
       "  <tbody>\n",
       "    <tr>\n",
       "      <th>5811</th>\n",
       "      <td>392000.0</td>\n",
       "      <td>3.227740e+05</td>\n",
       "    </tr>\n",
       "    <tr>\n",
       "      <th>3949</th>\n",
       "      <td>1460000.0</td>\n",
       "      <td>8.603564e+05</td>\n",
       "    </tr>\n",
       "    <tr>\n",
       "      <th>4492</th>\n",
       "      <td>1820000.0</td>\n",
       "      <td>1.932008e+06</td>\n",
       "    </tr>\n",
       "    <tr>\n",
       "      <th>1477</th>\n",
       "      <td>1002000.0</td>\n",
       "      <td>1.304867e+06</td>\n",
       "    </tr>\n",
       "    <tr>\n",
       "      <th>11774</th>\n",
       "      <td>980000.0</td>\n",
       "      <td>9.400057e+05</td>\n",
       "    </tr>\n",
       "    <tr>\n",
       "      <th>6881</th>\n",
       "      <td>1300000.0</td>\n",
       "      <td>1.869757e+06</td>\n",
       "    </tr>\n",
       "    <tr>\n",
       "      <th>11070</th>\n",
       "      <td>720000.0</td>\n",
       "      <td>4.152926e+05</td>\n",
       "    </tr>\n",
       "    <tr>\n",
       "      <th>8044</th>\n",
       "      <td>1402000.0</td>\n",
       "      <td>1.692994e+06</td>\n",
       "    </tr>\n",
       "    <tr>\n",
       "      <th>2140</th>\n",
       "      <td>1400000.0</td>\n",
       "      <td>1.858196e+06</td>\n",
       "    </tr>\n",
       "    <tr>\n",
       "      <th>1505</th>\n",
       "      <td>1063000.0</td>\n",
       "      <td>1.047660e+06</td>\n",
       "    </tr>\n",
       "  </tbody>\n",
       "</table>\n",
       "</div>"
      ],
      "text/plain": [
       "          Actual     Predicted\n",
       "5811    392000.0  3.227740e+05\n",
       "3949   1460000.0  8.603564e+05\n",
       "4492   1820000.0  1.932008e+06\n",
       "1477   1002000.0  1.304867e+06\n",
       "11774   980000.0  9.400057e+05\n",
       "6881   1300000.0  1.869757e+06\n",
       "11070   720000.0  4.152926e+05\n",
       "8044   1402000.0  1.692994e+06\n",
       "2140   1400000.0  1.858196e+06\n",
       "1505   1063000.0  1.047660e+06"
      ]
     },
     "execution_count": 65,
     "metadata": {},
     "output_type": "execute_result"
    }
   ],
   "source": [
    "df_new_lasso = pd.DataFrame({'Actual': y_test, 'Predicted': pred})\n",
    "df_new_lasso.head(10)"
   ]
  },
  {
   "cell_type": "code",
   "execution_count": null,
   "metadata": {},
   "outputs": [],
   "source": []
  },
  {
   "cell_type": "code",
   "execution_count": 66,
   "metadata": {},
   "outputs": [
    {
     "data": {
      "text/plain": [
       "RandomForestRegressor()"
      ]
     },
     "execution_count": 66,
     "metadata": {},
     "output_type": "execute_result"
    }
   ],
   "source": [
    "from sklearn.ensemble import RandomForestRegressor\n",
    "model = RandomForestRegressor()\n",
    "model.fit(x_train, y_train)"
   ]
  },
  {
   "cell_type": "code",
   "execution_count": 67,
   "metadata": {},
   "outputs": [],
   "source": [
    "pred = model.predict(x_test)"
   ]
  },
  {
   "cell_type": "code",
   "execution_count": 68,
   "metadata": {},
   "outputs": [
    {
     "data": {
      "text/plain": [
       "0.8097845640750733"
      ]
     },
     "execution_count": 68,
     "metadata": {},
     "output_type": "execute_result"
    }
   ],
   "source": [
    "r2_score(y_test, pred)"
   ]
  },
  {
   "cell_type": "code",
   "execution_count": 69,
   "metadata": {
    "scrolled": true
   },
   "outputs": [
    {
     "data": {
      "text/html": [
       "<div>\n",
       "<style scoped>\n",
       "    .dataframe tbody tr th:only-of-type {\n",
       "        vertical-align: middle;\n",
       "    }\n",
       "\n",
       "    .dataframe tbody tr th {\n",
       "        vertical-align: top;\n",
       "    }\n",
       "\n",
       "    .dataframe thead th {\n",
       "        text-align: right;\n",
       "    }\n",
       "</style>\n",
       "<table border=\"1\" class=\"dataframe\">\n",
       "  <thead>\n",
       "    <tr style=\"text-align: right;\">\n",
       "      <th></th>\n",
       "      <th>Actual</th>\n",
       "      <th>Predicted</th>\n",
       "    </tr>\n",
       "  </thead>\n",
       "  <tbody>\n",
       "    <tr>\n",
       "      <th>5811</th>\n",
       "      <td>392000.0</td>\n",
       "      <td>413680.0</td>\n",
       "    </tr>\n",
       "    <tr>\n",
       "      <th>3949</th>\n",
       "      <td>1460000.0</td>\n",
       "      <td>1233140.0</td>\n",
       "    </tr>\n",
       "    <tr>\n",
       "      <th>4492</th>\n",
       "      <td>1820000.0</td>\n",
       "      <td>1686490.0</td>\n",
       "    </tr>\n",
       "    <tr>\n",
       "      <th>1477</th>\n",
       "      <td>1002000.0</td>\n",
       "      <td>1527040.0</td>\n",
       "    </tr>\n",
       "    <tr>\n",
       "      <th>11774</th>\n",
       "      <td>980000.0</td>\n",
       "      <td>924969.0</td>\n",
       "    </tr>\n",
       "    <tr>\n",
       "      <th>6881</th>\n",
       "      <td>1300000.0</td>\n",
       "      <td>1468710.0</td>\n",
       "    </tr>\n",
       "    <tr>\n",
       "      <th>11070</th>\n",
       "      <td>720000.0</td>\n",
       "      <td>618230.0</td>\n",
       "    </tr>\n",
       "    <tr>\n",
       "      <th>8044</th>\n",
       "      <td>1402000.0</td>\n",
       "      <td>1652245.0</td>\n",
       "    </tr>\n",
       "    <tr>\n",
       "      <th>2140</th>\n",
       "      <td>1400000.0</td>\n",
       "      <td>1646405.0</td>\n",
       "    </tr>\n",
       "    <tr>\n",
       "      <th>1505</th>\n",
       "      <td>1063000.0</td>\n",
       "      <td>1089610.0</td>\n",
       "    </tr>\n",
       "  </tbody>\n",
       "</table>\n",
       "</div>"
      ],
      "text/plain": [
       "          Actual  Predicted\n",
       "5811    392000.0   413680.0\n",
       "3949   1460000.0  1233140.0\n",
       "4492   1820000.0  1686490.0\n",
       "1477   1002000.0  1527040.0\n",
       "11774   980000.0   924969.0\n",
       "6881   1300000.0  1468710.0\n",
       "11070   720000.0   618230.0\n",
       "8044   1402000.0  1652245.0\n",
       "2140   1400000.0  1646405.0\n",
       "1505   1063000.0  1089610.0"
      ]
     },
     "execution_count": 69,
     "metadata": {},
     "output_type": "execute_result"
    }
   ],
   "source": [
    "df_new_for = pd.DataFrame({'Actual': y_test, 'Predicted': pred})\n",
    "df_new_for.head(10)"
   ]
  },
  {
   "cell_type": "code",
   "execution_count": 70,
   "metadata": {
    "scrolled": true
   },
   "outputs": [
    {
     "name": "stdout",
     "output_type": "stream",
     "text": [
      "Mean Absolute Error: 159031.03649969806\n",
      "Mean Squared Error: 71855013079.00102\n",
      "Root Mean Squared Error: 268057.85397745954\n"
     ]
    }
   ],
   "source": [
    "from sklearn import metrics\n",
    "print('Mean Absolute Error:', metrics.mean_absolute_error(y_test, pred))\n",
    "print('Mean Squared Error:', metrics.mean_squared_error(y_test, pred))\n",
    "print('Root Mean Squared Error:', np.sqrt(metrics.mean_squared_error(y_test, pred)))"
   ]
  },
  {
   "cell_type": "code",
   "execution_count": null,
   "metadata": {},
   "outputs": [],
   "source": []
  },
  {
   "cell_type": "markdown",
   "metadata": {},
   "source": [
    "# We will now use price_log"
   ]
  },
  {
   "cell_type": "code",
   "execution_count": 71,
   "metadata": {},
   "outputs": [
    {
     "data": {
      "text/plain": [
       "(10170, 643)"
      ]
     },
     "execution_count": 71,
     "metadata": {},
     "output_type": "execute_result"
    }
   ],
   "source": [
    "from sklearn.model_selection import train_test_split\n",
    "\n",
    "x=df.drop(columns=['Price_log', 'Price'])\n",
    "y=df['Price_log']\n",
    "\n",
    "x_train, x_test, y_train, y_test = train_test_split(x, y, random_state = 64, test_size=0.25)\n",
    "x_train.shape"
   ]
  },
  {
   "cell_type": "code",
   "execution_count": 72,
   "metadata": {},
   "outputs": [
    {
     "data": {
      "text/plain": [
       "(3391, 643)"
      ]
     },
     "execution_count": 72,
     "metadata": {},
     "output_type": "execute_result"
    }
   ],
   "source": [
    "x_test.shape"
   ]
  },
  {
   "cell_type": "markdown",
   "metadata": {},
   "source": [
    "## Model Training"
   ]
  },
  {
   "cell_type": "code",
   "execution_count": 73,
   "metadata": {},
   "outputs": [
    {
     "data": {
      "text/plain": [
       "LinearRegression()"
      ]
     },
     "execution_count": 73,
     "metadata": {},
     "output_type": "execute_result"
    }
   ],
   "source": [
    "from sklearn.linear_model import LinearRegression\n",
    "\n",
    "model = LinearRegression()\n",
    "model.fit(x_train, y_train)"
   ]
  },
  {
   "cell_type": "code",
   "execution_count": 74,
   "metadata": {},
   "outputs": [],
   "source": [
    "pred = model.predict(x_test)"
   ]
  },
  {
   "cell_type": "code",
   "execution_count": 75,
   "metadata": {},
   "outputs": [
    {
     "data": {
      "text/plain": [
       "-126096870315.85062"
      ]
     },
     "execution_count": 75,
     "metadata": {},
     "output_type": "execute_result"
    }
   ],
   "source": [
    "from sklearn.metrics import r2_score\n",
    "r2_score(y_test, pred)"
   ]
  },
  {
   "cell_type": "code",
   "execution_count": 76,
   "metadata": {},
   "outputs": [
    {
     "name": "stdout",
     "output_type": "stream",
     "text": [
      "Mean Absolute Error: 9689.647776662408\n",
      "Mean Squared Error: 34321160956.513462\n",
      "Root Mean Squared Error: 185259.7121786425\n"
     ]
    }
   ],
   "source": [
    "from sklearn import metrics\n",
    "print('Mean Absolute Error:', metrics.mean_absolute_error(y_test, pred))\n",
    "print('Mean Squared Error:', metrics.mean_squared_error(y_test, pred))\n",
    "print('Root Mean Squared Error:', np.sqrt(metrics.mean_squared_error(y_test, pred)))"
   ]
  },
  {
   "cell_type": "code",
   "execution_count": null,
   "metadata": {},
   "outputs": [],
   "source": []
  },
  {
   "cell_type": "code",
   "execution_count": 77,
   "metadata": {},
   "outputs": [
    {
     "data": {
      "text/plain": [
       "DecisionTreeRegressor()"
      ]
     },
     "execution_count": 77,
     "metadata": {},
     "output_type": "execute_result"
    }
   ],
   "source": [
    "from sklearn.tree import DecisionTreeRegressor\n",
    "model = DecisionTreeRegressor()\n",
    "model.fit(x_train, y_train)"
   ]
  },
  {
   "cell_type": "code",
   "execution_count": 78,
   "metadata": {},
   "outputs": [],
   "source": [
    "pred = model.predict(x_test)"
   ]
  },
  {
   "cell_type": "code",
   "execution_count": 79,
   "metadata": {},
   "outputs": [
    {
     "data": {
      "text/plain": [
       "0.729061687862269"
      ]
     },
     "execution_count": 79,
     "metadata": {},
     "output_type": "execute_result"
    }
   ],
   "source": [
    "r2_score(y_test, pred)"
   ]
  },
  {
   "cell_type": "code",
   "execution_count": 80,
   "metadata": {},
   "outputs": [
    {
     "name": "stdout",
     "output_type": "stream",
     "text": [
      "Mean Absolute Error: 0.20128940711517088\n",
      "Mean Squared Error: 0.07374423644932063\n",
      "Root Mean Squared Error: 0.2715589005157456\n"
     ]
    }
   ],
   "source": [
    "from sklearn import metrics\n",
    "print('Mean Absolute Error:', metrics.mean_absolute_error(y_test, pred))\n",
    "print('Mean Squared Error:', metrics.mean_squared_error(y_test, pred))\n",
    "print('Root Mean Squared Error:', np.sqrt(metrics.mean_squared_error(y_test, pred)))"
   ]
  },
  {
   "cell_type": "code",
   "execution_count": null,
   "metadata": {},
   "outputs": [],
   "source": []
  },
  {
   "cell_type": "code",
   "execution_count": 81,
   "metadata": {},
   "outputs": [
    {
     "data": {
      "text/plain": [
       "ExtraTreeRegressor()"
      ]
     },
     "execution_count": 81,
     "metadata": {},
     "output_type": "execute_result"
    }
   ],
   "source": [
    "from sklearn.tree import ExtraTreeRegressor\n",
    "model = ExtraTreeRegressor()\n",
    "model.fit(x_train, y_train)"
   ]
  },
  {
   "cell_type": "code",
   "execution_count": 82,
   "metadata": {},
   "outputs": [],
   "source": [
    "pred = model.predict(x_test)"
   ]
  },
  {
   "cell_type": "code",
   "execution_count": 83,
   "metadata": {},
   "outputs": [
    {
     "data": {
      "text/plain": [
       "0.7309193708225898"
      ]
     },
     "execution_count": 83,
     "metadata": {},
     "output_type": "execute_result"
    }
   ],
   "source": [
    "r2_score(y_test, pred)"
   ]
  },
  {
   "cell_type": "code",
   "execution_count": 84,
   "metadata": {},
   "outputs": [
    {
     "name": "stdout",
     "output_type": "stream",
     "text": [
      "Mean Absolute Error: 0.19806445125613156\n",
      "Mean Squared Error: 0.07323861061001838\n",
      "Root Mean Squared Error: 0.2706263302230926\n"
     ]
    }
   ],
   "source": [
    "from sklearn import metrics\n",
    "print('Mean Absolute Error:', metrics.mean_absolute_error(y_test, pred))\n",
    "print('Mean Squared Error:', metrics.mean_squared_error(y_test, pred))\n",
    "print('Root Mean Squared Error:', np.sqrt(metrics.mean_squared_error(y_test, pred)))"
   ]
  },
  {
   "cell_type": "code",
   "execution_count": null,
   "metadata": {},
   "outputs": [],
   "source": []
  },
  {
   "cell_type": "code",
   "execution_count": 85,
   "metadata": {},
   "outputs": [
    {
     "data": {
      "text/plain": [
       "Ridge()"
      ]
     },
     "execution_count": 85,
     "metadata": {},
     "output_type": "execute_result"
    }
   ],
   "source": [
    "from sklearn.linear_model import Ridge\n",
    "model = Ridge()\n",
    "model.fit(x_train, y_train)"
   ]
  },
  {
   "cell_type": "code",
   "execution_count": 86,
   "metadata": {},
   "outputs": [],
   "source": [
    "pred = model.predict(x_test)"
   ]
  },
  {
   "cell_type": "code",
   "execution_count": 87,
   "metadata": {},
   "outputs": [
    {
     "data": {
      "text/plain": [
       "0.78159822642049"
      ]
     },
     "execution_count": 87,
     "metadata": {},
     "output_type": "execute_result"
    }
   ],
   "source": [
    "r2_score(y_test, pred)"
   ]
  },
  {
   "cell_type": "code",
   "execution_count": 88,
   "metadata": {},
   "outputs": [
    {
     "name": "stdout",
     "output_type": "stream",
     "text": [
      "Mean Absolute Error: 0.1785354844124958\n",
      "Mean Squared Error: 0.0594447935573282\n",
      "Root Mean Squared Error: 0.24381302991704157\n"
     ]
    }
   ],
   "source": [
    "from sklearn import metrics\n",
    "print('Mean Absolute Error:', metrics.mean_absolute_error(y_test, pred))\n",
    "print('Mean Squared Error:', metrics.mean_squared_error(y_test, pred))\n",
    "print('Root Mean Squared Error:', np.sqrt(metrics.mean_squared_error(y_test, pred)))"
   ]
  },
  {
   "cell_type": "code",
   "execution_count": null,
   "metadata": {},
   "outputs": [],
   "source": []
  },
  {
   "cell_type": "code",
   "execution_count": 89,
   "metadata": {},
   "outputs": [
    {
     "data": {
      "text/plain": [
       "Lasso()"
      ]
     },
     "execution_count": 89,
     "metadata": {},
     "output_type": "execute_result"
    }
   ],
   "source": [
    "from sklearn.linear_model import Lasso\n",
    "model = Lasso()\n",
    "model.fit(x_train, y_train)"
   ]
  },
  {
   "cell_type": "code",
   "execution_count": 90,
   "metadata": {},
   "outputs": [],
   "source": [
    "pred = model.predict(x_test)"
   ]
  },
  {
   "cell_type": "code",
   "execution_count": 91,
   "metadata": {},
   "outputs": [
    {
     "data": {
      "text/plain": [
       "0.09964810681744729"
      ]
     },
     "execution_count": 91,
     "metadata": {},
     "output_type": "execute_result"
    }
   ],
   "source": [
    "r2_score(y_test, pred)"
   ]
  },
  {
   "cell_type": "code",
   "execution_count": 92,
   "metadata": {},
   "outputs": [
    {
     "name": "stdout",
     "output_type": "stream",
     "text": [
      "Mean Absolute Error: 0.3853711507833722\n",
      "Mean Squared Error: 0.24505859793167775\n",
      "Root Mean Squared Error: 0.4950339361414304\n"
     ]
    }
   ],
   "source": [
    "from sklearn import metrics\n",
    "print('Mean Absolute Error:', metrics.mean_absolute_error(y_test, pred))\n",
    "print('Mean Squared Error:', metrics.mean_squared_error(y_test, pred))\n",
    "print('Root Mean Squared Error:', np.sqrt(metrics.mean_squared_error(y_test, pred)))"
   ]
  },
  {
   "cell_type": "code",
   "execution_count": 93,
   "metadata": {
    "scrolled": true
   },
   "outputs": [
    {
     "data": {
      "text/html": [
       "<div>\n",
       "<style scoped>\n",
       "    .dataframe tbody tr th:only-of-type {\n",
       "        vertical-align: middle;\n",
       "    }\n",
       "\n",
       "    .dataframe tbody tr th {\n",
       "        vertical-align: top;\n",
       "    }\n",
       "\n",
       "    .dataframe thead th {\n",
       "        text-align: right;\n",
       "    }\n",
       "</style>\n",
       "<table border=\"1\" class=\"dataframe\">\n",
       "  <thead>\n",
       "    <tr style=\"text-align: right;\">\n",
       "      <th></th>\n",
       "      <th>Actual</th>\n",
       "      <th>Predicted</th>\n",
       "    </tr>\n",
       "  </thead>\n",
       "  <tbody>\n",
       "    <tr>\n",
       "      <th>5811</th>\n",
       "      <td>12.879020</td>\n",
       "      <td>13.572181</td>\n",
       "    </tr>\n",
       "    <tr>\n",
       "      <th>3949</th>\n",
       "      <td>14.193948</td>\n",
       "      <td>13.579137</td>\n",
       "    </tr>\n",
       "    <tr>\n",
       "      <th>4492</th>\n",
       "      <td>14.414348</td>\n",
       "      <td>13.773804</td>\n",
       "    </tr>\n",
       "    <tr>\n",
       "      <th>1477</th>\n",
       "      <td>13.817510</td>\n",
       "      <td>13.741851</td>\n",
       "    </tr>\n",
       "    <tr>\n",
       "      <th>11774</th>\n",
       "      <td>13.795309</td>\n",
       "      <td>13.792420</td>\n",
       "    </tr>\n",
       "    <tr>\n",
       "      <th>6881</th>\n",
       "      <td>14.077876</td>\n",
       "      <td>13.734534</td>\n",
       "    </tr>\n",
       "    <tr>\n",
       "      <th>11070</th>\n",
       "      <td>13.487008</td>\n",
       "      <td>13.789107</td>\n",
       "    </tr>\n",
       "    <tr>\n",
       "      <th>8044</th>\n",
       "      <td>14.153411</td>\n",
       "      <td>13.808483</td>\n",
       "    </tr>\n",
       "    <tr>\n",
       "      <th>2140</th>\n",
       "      <td>14.151984</td>\n",
       "      <td>13.654063</td>\n",
       "    </tr>\n",
       "    <tr>\n",
       "      <th>1505</th>\n",
       "      <td>13.876607</td>\n",
       "      <td>13.729519</td>\n",
       "    </tr>\n",
       "  </tbody>\n",
       "</table>\n",
       "</div>"
      ],
      "text/plain": [
       "          Actual  Predicted\n",
       "5811   12.879020  13.572181\n",
       "3949   14.193948  13.579137\n",
       "4492   14.414348  13.773804\n",
       "1477   13.817510  13.741851\n",
       "11774  13.795309  13.792420\n",
       "6881   14.077876  13.734534\n",
       "11070  13.487008  13.789107\n",
       "8044   14.153411  13.808483\n",
       "2140   14.151984  13.654063\n",
       "1505   13.876607  13.729519"
      ]
     },
     "execution_count": 93,
     "metadata": {},
     "output_type": "execute_result"
    }
   ],
   "source": [
    "df_new_lasso = pd.DataFrame({'Actual': y_test, 'Predicted': pred})\n",
    "df_new_lasso.head(10)"
   ]
  },
  {
   "cell_type": "code",
   "execution_count": null,
   "metadata": {},
   "outputs": [],
   "source": []
  },
  {
   "cell_type": "code",
   "execution_count": 94,
   "metadata": {},
   "outputs": [
    {
     "data": {
      "text/plain": [
       "RandomForestRegressor()"
      ]
     },
     "execution_count": 94,
     "metadata": {},
     "output_type": "execute_result"
    }
   ],
   "source": [
    "from sklearn.ensemble import RandomForestRegressor\n",
    "model = RandomForestRegressor()\n",
    "model.fit(x_train, y_train)"
   ]
  },
  {
   "cell_type": "code",
   "execution_count": 95,
   "metadata": {},
   "outputs": [],
   "source": [
    "pred = model.predict(x_test)"
   ]
  },
  {
   "cell_type": "code",
   "execution_count": 96,
   "metadata": {},
   "outputs": [
    {
     "data": {
      "text/plain": [
       "0.8740203799408203"
      ]
     },
     "execution_count": 96,
     "metadata": {},
     "output_type": "execute_result"
    }
   ],
   "source": [
    "r2_score(y_test, pred)"
   ]
  },
  {
   "cell_type": "code",
   "execution_count": 97,
   "metadata": {
    "scrolled": true
   },
   "outputs": [
    {
     "data": {
      "text/html": [
       "<div>\n",
       "<style scoped>\n",
       "    .dataframe tbody tr th:only-of-type {\n",
       "        vertical-align: middle;\n",
       "    }\n",
       "\n",
       "    .dataframe tbody tr th {\n",
       "        vertical-align: top;\n",
       "    }\n",
       "\n",
       "    .dataframe thead th {\n",
       "        text-align: right;\n",
       "    }\n",
       "</style>\n",
       "<table border=\"1\" class=\"dataframe\">\n",
       "  <thead>\n",
       "    <tr style=\"text-align: right;\">\n",
       "      <th></th>\n",
       "      <th>Actual</th>\n",
       "      <th>Predicted</th>\n",
       "    </tr>\n",
       "  </thead>\n",
       "  <tbody>\n",
       "    <tr>\n",
       "      <th>5811</th>\n",
       "      <td>12.879020</td>\n",
       "      <td>12.921484</td>\n",
       "    </tr>\n",
       "    <tr>\n",
       "      <th>3949</th>\n",
       "      <td>14.193948</td>\n",
       "      <td>14.033022</td>\n",
       "    </tr>\n",
       "    <tr>\n",
       "      <th>4492</th>\n",
       "      <td>14.414348</td>\n",
       "      <td>14.301165</td>\n",
       "    </tr>\n",
       "    <tr>\n",
       "      <th>1477</th>\n",
       "      <td>13.817510</td>\n",
       "      <td>14.196498</td>\n",
       "    </tr>\n",
       "    <tr>\n",
       "      <th>11774</th>\n",
       "      <td>13.795309</td>\n",
       "      <td>13.721480</td>\n",
       "    </tr>\n",
       "    <tr>\n",
       "      <th>6881</th>\n",
       "      <td>14.077876</td>\n",
       "      <td>14.200670</td>\n",
       "    </tr>\n",
       "    <tr>\n",
       "      <th>11070</th>\n",
       "      <td>13.487008</td>\n",
       "      <td>13.275970</td>\n",
       "    </tr>\n",
       "    <tr>\n",
       "      <th>8044</th>\n",
       "      <td>14.153411</td>\n",
       "      <td>14.301068</td>\n",
       "    </tr>\n",
       "    <tr>\n",
       "      <th>2140</th>\n",
       "      <td>14.151984</td>\n",
       "      <td>14.306059</td>\n",
       "    </tr>\n",
       "    <tr>\n",
       "      <th>1505</th>\n",
       "      <td>13.876607</td>\n",
       "      <td>13.896571</td>\n",
       "    </tr>\n",
       "  </tbody>\n",
       "</table>\n",
       "</div>"
      ],
      "text/plain": [
       "          Actual  Predicted\n",
       "5811   12.879020  12.921484\n",
       "3949   14.193948  14.033022\n",
       "4492   14.414348  14.301165\n",
       "1477   13.817510  14.196498\n",
       "11774  13.795309  13.721480\n",
       "6881   14.077876  14.200670\n",
       "11070  13.487008  13.275970\n",
       "8044   14.153411  14.301068\n",
       "2140   14.151984  14.306059\n",
       "1505   13.876607  13.896571"
      ]
     },
     "execution_count": 97,
     "metadata": {},
     "output_type": "execute_result"
    }
   ],
   "source": [
    "df_new_for = pd.DataFrame({'Actual': y_test, 'Predicted': pred})\n",
    "df_new_for.head(10)"
   ]
  },
  {
   "cell_type": "code",
   "execution_count": 98,
   "metadata": {
    "scrolled": true
   },
   "outputs": [
    {
     "name": "stdout",
     "output_type": "stream",
     "text": [
      "Mean Absolute Error: 0.1360318123608886\n",
      "Mean Squared Error: 0.03428924767464053\n",
      "Root Mean Squared Error: 0.1851735609492903\n"
     ]
    }
   ],
   "source": [
    "from sklearn import metrics\n",
    "print('Mean Absolute Error:', metrics.mean_absolute_error(y_test, pred))\n",
    "print('Mean Squared Error:', metrics.mean_squared_error(y_test, pred))\n",
    "print('Root Mean Squared Error:', np.sqrt(metrics.mean_squared_error(y_test, pred)))"
   ]
  },
  {
   "cell_type": "code",
   "execution_count": 108,
   "metadata": {},
   "outputs": [
    {
     "data": {
      "text/html": [
       "<div>\n",
       "<style scoped>\n",
       "    .dataframe tbody tr th:only-of-type {\n",
       "        vertical-align: middle;\n",
       "    }\n",
       "\n",
       "    .dataframe tbody tr th {\n",
       "        vertical-align: top;\n",
       "    }\n",
       "\n",
       "    .dataframe thead th {\n",
       "        text-align: right;\n",
       "    }\n",
       "</style>\n",
       "<table border=\"1\" class=\"dataframe\">\n",
       "  <thead>\n",
       "    <tr style=\"text-align: right;\">\n",
       "      <th></th>\n",
       "      <th>Actual</th>\n",
       "      <th>Predicted</th>\n",
       "    </tr>\n",
       "  </thead>\n",
       "  <tbody>\n",
       "    <tr>\n",
       "      <th>5811</th>\n",
       "      <td>392000.0</td>\n",
       "      <td>4.090045e+05</td>\n",
       "    </tr>\n",
       "    <tr>\n",
       "      <th>3949</th>\n",
       "      <td>1460000.0</td>\n",
       "      <td>1.242979e+06</td>\n",
       "    </tr>\n",
       "    <tr>\n",
       "      <th>4492</th>\n",
       "      <td>1820000.0</td>\n",
       "      <td>1.625237e+06</td>\n",
       "    </tr>\n",
       "    <tr>\n",
       "      <th>1477</th>\n",
       "      <td>1002000.0</td>\n",
       "      <td>1.463728e+06</td>\n",
       "    </tr>\n",
       "    <tr>\n",
       "      <th>11774</th>\n",
       "      <td>980000.0</td>\n",
       "      <td>9.102542e+05</td>\n",
       "    </tr>\n",
       "    <tr>\n",
       "      <th>6881</th>\n",
       "      <td>1300000.0</td>\n",
       "      <td>1.469848e+06</td>\n",
       "    </tr>\n",
       "    <tr>\n",
       "      <th>11070</th>\n",
       "      <td>720000.0</td>\n",
       "      <td>5.830148e+05</td>\n",
       "    </tr>\n",
       "    <tr>\n",
       "      <th>8044</th>\n",
       "      <td>1402000.0</td>\n",
       "      <td>1.625080e+06</td>\n",
       "    </tr>\n",
       "    <tr>\n",
       "      <th>2140</th>\n",
       "      <td>1400000.0</td>\n",
       "      <td>1.633210e+06</td>\n",
       "    </tr>\n",
       "    <tr>\n",
       "      <th>1505</th>\n",
       "      <td>1063000.0</td>\n",
       "      <td>1.084435e+06</td>\n",
       "    </tr>\n",
       "  </tbody>\n",
       "</table>\n",
       "</div>"
      ],
      "text/plain": [
       "          Actual     Predicted\n",
       "5811    392000.0  4.090045e+05\n",
       "3949   1460000.0  1.242979e+06\n",
       "4492   1820000.0  1.625237e+06\n",
       "1477   1002000.0  1.463728e+06\n",
       "11774   980000.0  9.102542e+05\n",
       "6881   1300000.0  1.469848e+06\n",
       "11070   720000.0  5.830148e+05\n",
       "8044   1402000.0  1.625080e+06\n",
       "2140   1400000.0  1.633210e+06\n",
       "1505   1063000.0  1.084435e+06"
      ]
     },
     "execution_count": 108,
     "metadata": {},
     "output_type": "execute_result"
    }
   ],
   "source": [
    "df_new_for = pd.DataFrame({'Actual': (np.e**y_test)-1, 'Predicted': (np.e**pred)-1})\n",
    "df_new_for.head(10)"
   ]
  },
  {
   "cell_type": "code",
   "execution_count": 109,
   "metadata": {},
   "outputs": [],
   "source": [
    "y_test_al = (np.e**y_test)-1"
   ]
  },
  {
   "cell_type": "code",
   "execution_count": 110,
   "metadata": {},
   "outputs": [],
   "source": [
    "pred_al = (np.e**pred)-1"
   ]
  },
  {
   "cell_type": "code",
   "execution_count": 115,
   "metadata": {},
   "outputs": [
    {
     "data": {
      "text/html": [
       "<div>\n",
       "<style scoped>\n",
       "    .dataframe tbody tr th:only-of-type {\n",
       "        vertical-align: middle;\n",
       "    }\n",
       "\n",
       "    .dataframe tbody tr th {\n",
       "        vertical-align: top;\n",
       "    }\n",
       "\n",
       "    .dataframe thead th {\n",
       "        text-align: right;\n",
       "    }\n",
       "</style>\n",
       "<table border=\"1\" class=\"dataframe\">\n",
       "  <thead>\n",
       "    <tr style=\"text-align: right;\">\n",
       "      <th></th>\n",
       "      <th>Actual</th>\n",
       "      <th>Predicted</th>\n",
       "    </tr>\n",
       "  </thead>\n",
       "  <tbody>\n",
       "    <tr>\n",
       "      <th>5811</th>\n",
       "      <td>391999.9999999997</td>\n",
       "      <td>409004.4986833556</td>\n",
       "    </tr>\n",
       "    <tr>\n",
       "      <th>3949</th>\n",
       "      <td>1459999.999999998</td>\n",
       "      <td>1242978.571049696</td>\n",
       "    </tr>\n",
       "    <tr>\n",
       "      <th>4492</th>\n",
       "      <td>1819999.999999999</td>\n",
       "      <td>1625236.8623673697</td>\n",
       "    </tr>\n",
       "    <tr>\n",
       "      <th>1477</th>\n",
       "      <td>1001999.999999999</td>\n",
       "      <td>1463727.5877862899</td>\n",
       "    </tr>\n",
       "    <tr>\n",
       "      <th>11774</th>\n",
       "      <td>979999.999999999</td>\n",
       "      <td>910254.2407179481</td>\n",
       "    </tr>\n",
       "    <tr>\n",
       "      <th>6881</th>\n",
       "      <td>1299999.9999999984</td>\n",
       "      <td>1469847.909168301</td>\n",
       "    </tr>\n",
       "    <tr>\n",
       "      <th>11070</th>\n",
       "      <td>719999.9999999991</td>\n",
       "      <td>583014.83198893</td>\n",
       "    </tr>\n",
       "    <tr>\n",
       "      <th>8044</th>\n",
       "      <td>1401999.9999999984</td>\n",
       "      <td>1625079.9998837097</td>\n",
       "    </tr>\n",
       "    <tr>\n",
       "      <th>2140</th>\n",
       "      <td>1399999.9999999995</td>\n",
       "      <td>1633210.0346804613</td>\n",
       "    </tr>\n",
       "    <tr>\n",
       "      <th>1505</th>\n",
       "      <td>1062999.9999999984</td>\n",
       "      <td>1084435.2675787627</td>\n",
       "    </tr>\n",
       "  </tbody>\n",
       "</table>\n",
       "</div>"
      ],
      "text/plain": [
       "                   Actual           Predicted\n",
       "5811    391999.9999999997   409004.4986833556\n",
       "3949    1459999.999999998   1242978.571049696\n",
       "4492    1819999.999999999  1625236.8623673697\n",
       "1477    1001999.999999999  1463727.5877862899\n",
       "11774    979999.999999999   910254.2407179481\n",
       "6881   1299999.9999999984   1469847.909168301\n",
       "11070   719999.9999999991     583014.83198893\n",
       "8044   1401999.9999999984  1625079.9998837097\n",
       "2140   1399999.9999999995  1633210.0346804613\n",
       "1505   1062999.9999999984  1084435.2675787627"
      ]
     },
     "execution_count": 115,
     "metadata": {},
     "output_type": "execute_result"
    }
   ],
   "source": [
    "df_new_for = pd.DataFrame({'Actual': y_test_al.astype(str), 'Predicted': pred_al.astype(str)})\n",
    "df_new_for.head(10)"
   ]
  },
  {
   "cell_type": "code",
   "execution_count": 112,
   "metadata": {},
   "outputs": [
    {
     "name": "stdout",
     "output_type": "stream",
     "text": [
      "Mean Absolute Error: 154236.48386214356\n",
      "Mean Squared Error: 66604352375.528366\n",
      "Root Mean Squared Error: 258078.190429816\n"
     ]
    }
   ],
   "source": [
    "print('Mean Absolute Error:', metrics.mean_absolute_error(y_test_al, pred_al))\n",
    "print('Mean Squared Error:', metrics.mean_squared_error(y_test_al, pred_al))\n",
    "print('Root Mean Squared Error:', np.sqrt(metrics.mean_squared_error(y_test_al, pred_al)))"
   ]
  },
  {
   "cell_type": "code",
   "execution_count": 113,
   "metadata": {},
   "outputs": [
    {
     "data": {
      "text/plain": [
       "0.8236841748580652"
      ]
     },
     "execution_count": 113,
     "metadata": {},
     "output_type": "execute_result"
    }
   ],
   "source": [
    "r2_score(y_test_al, pred_al)"
   ]
  },
  {
   "cell_type": "markdown",
   "metadata": {},
   "source": [
    "# Conclusion:\n",
    "\n",
    "## Using log to convert extra large values to price to a smaller value does improve accuracy."
   ]
  },
  {
   "cell_type": "code",
   "execution_count": null,
   "metadata": {},
   "outputs": [],
   "source": []
  }
 ],
 "metadata": {
  "kernelspec": {
   "display_name": "Python 3",
   "language": "python",
   "name": "python3"
  },
  "language_info": {
   "codemirror_mode": {
    "name": "ipython",
    "version": 3
   },
   "file_extension": ".py",
   "mimetype": "text/x-python",
   "name": "python",
   "nbconvert_exporter": "python",
   "pygments_lexer": "ipython3",
   "version": "3.8.5"
  }
 },
 "nbformat": 4,
 "nbformat_minor": 4
}
